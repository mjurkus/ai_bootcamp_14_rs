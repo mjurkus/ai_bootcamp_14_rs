{
 "cells": [
  {
   "cell_type": "markdown",
   "metadata": {},
   "source": [
    "## Project summary"
   ]
  },
  {
   "cell_type": "markdown",
   "metadata": {},
   "source": [
    "__Models__\n",
    "- Mean model used as a baseline\n",
    "- Concatenated model\n",
    "- Dot product model\n",
    "\n",
    "Further testing done by adding additional 2 continuous data features - average user score and metacritics score"
   ]
  },
  {
   "cell_type": "markdown",
   "metadata": {},
   "source": [
    "## Setup"
   ]
  },
  {
   "cell_type": "code",
   "execution_count": 1,
   "metadata": {},
   "outputs": [],
   "source": [
    "%load_ext autoreload\n",
    "%load_ext lab_black\n",
    "%autoreload 2"
   ]
  },
  {
   "cell_type": "code",
   "execution_count": 2,
   "metadata": {},
   "outputs": [
    {
     "name": "stdout",
     "output_type": "stream",
     "text": [
      "PhysicalDevice(name='/physical_device:GPU:0', device_type='GPU')\n",
      "1 Physical GPUs, 1 Logical GPUs\n"
     ]
    }
   ],
   "source": [
    "from gpu_helper import enable_gpu\n",
    "\n",
    "enable_gpu()"
   ]
  },
  {
   "cell_type": "code",
   "execution_count": 3,
   "metadata": {},
   "outputs": [
    {
     "name": "stderr",
     "output_type": "stream",
     "text": [
      "/home/martynas/ml/.venv/lib/python3.6/site-packages/sklearn/externals/joblib/__init__.py:15: DeprecationWarning: sklearn.externals.joblib is deprecated in 0.21 and will be removed in 0.23. Please import this functionality directly from joblib, which can be installed with: pip install joblib. If this warning is raised when loading pickled models, you may need to re-serialize those models with scikit-learn 0.21+.\n",
      "  warnings.warn(msg, category=DeprecationWarning)\n"
     ]
    }
   ],
   "source": [
    "from toai.imports import *\n",
    "import tensorflow as tf\n",
    "from tensorflow import keras\n",
    "from model_utils import show_history\n",
    "from toai.data.utils import split_df\n",
    "from toai.metrics import rmse"
   ]
  },
  {
   "cell_type": "code",
   "execution_count": 4,
   "metadata": {},
   "outputs": [],
   "source": [
    "DATA_DIR = Path(\"data\")\n",
    "TEMP_DIR = Path(\"temp\")\n",
    "DATA_DIR.mkdir(parents=True, exist_ok=True)\n",
    "TEMP_DIR.mkdir(parents=True, exist_ok=True)"
   ]
  },
  {
   "cell_type": "markdown",
   "metadata": {},
   "source": [
    "## EDA and Cleanup"
   ]
  },
  {
   "cell_type": "code",
   "execution_count": 5,
   "metadata": {},
   "outputs": [],
   "source": [
    "df_game_info = pd.read_csv(DATA_DIR / \"metacritic_game_info.csv\")\n",
    "df_game_info.drop([\"Unnamed: 0\"], axis=1, inplace=True)\n",
    "df_game_comments = pd.read_csv(DATA_DIR / \"metacritic_game_user_comments.csv\")\n",
    "df_game_comments.drop([\"Unnamed: 0\", \"Comment\"], axis=1, inplace=True)"
   ]
  },
  {
   "cell_type": "code",
   "execution_count": 6,
   "metadata": {},
   "outputs": [
    {
     "name": "stdout",
     "output_type": "stream",
     "text": [
      "<class 'pandas.core.frame.DataFrame'>\n",
      "RangeIndex: 283983 entries, 0 to 283982\n",
      "Data columns (total 4 columns):\n",
      "Title        283983 non-null object\n",
      "Platform     283983 non-null object\n",
      "Userscore    283983 non-null int64\n",
      "Username     283980 non-null object\n",
      "dtypes: int64(1), object(3)\n",
      "memory usage: 8.7+ MB\n"
     ]
    }
   ],
   "source": [
    "df_game_comments.info()"
   ]
  },
  {
   "cell_type": "code",
   "execution_count": 7,
   "metadata": {},
   "outputs": [],
   "source": [
    "df_game_comments = df_game_comments[\n",
    "    df_game_comments.groupby(\"Username\")[\"Username\"].transform(\"size\") >= 5\n",
    "]"
   ]
  },
  {
   "cell_type": "code",
   "execution_count": 8,
   "metadata": {},
   "outputs": [],
   "source": [
    "df_game_comments = df_game_comments.loc[\n",
    "    ~df_game_comments[\"Username\"].isin([\"AnonymousMC\", \"[Anonymous]\"]), :\n",
    "].reset_index(drop=True)"
   ]
  },
  {
   "cell_type": "code",
   "execution_count": 9,
   "metadata": {},
   "outputs": [
    {
     "data": {
      "text/plain": [
       "Broyax            274\n",
       "iddqd4            255\n",
       "SuperkenGaming    230\n",
       "drlowdon          216\n",
       "TheQuietGamer     211\n",
       "                 ... \n",
       "Xxdaniels751xX      5\n",
       "Jugalator           5\n",
       "SuperJosh79         5\n",
       "draculdracul        5\n",
       "victorgr            5\n",
       "Name: Username, Length: 10231, dtype: int64"
      ]
     },
     "execution_count": 9,
     "metadata": {},
     "output_type": "execute_result"
    }
   ],
   "source": [
    "df_game_comments[\"Username\"].value_counts()"
   ]
  },
  {
   "cell_type": "code",
   "execution_count": 10,
   "metadata": {},
   "outputs": [
    {
     "data": {
      "text/html": [
       "<div>\n",
       "<style scoped>\n",
       "    .dataframe tbody tr th:only-of-type {\n",
       "        vertical-align: middle;\n",
       "    }\n",
       "\n",
       "    .dataframe tbody tr th {\n",
       "        vertical-align: top;\n",
       "    }\n",
       "\n",
       "    .dataframe thead th {\n",
       "        text-align: right;\n",
       "    }\n",
       "</style>\n",
       "<table border=\"1\" class=\"dataframe\">\n",
       "  <thead>\n",
       "    <tr style=\"text-align: right;\">\n",
       "      <th></th>\n",
       "      <th>Title</th>\n",
       "      <th>Platform</th>\n",
       "      <th>Userscore</th>\n",
       "      <th>Username</th>\n",
       "    </tr>\n",
       "  </thead>\n",
       "  <tbody>\n",
       "    <tr>\n",
       "      <td>0</td>\n",
       "      <td>The Legend of Zelda: Ocarina of Time</td>\n",
       "      <td>Nintendo64</td>\n",
       "      <td>10</td>\n",
       "      <td>doodlerman</td>\n",
       "    </tr>\n",
       "    <tr>\n",
       "      <td>1</td>\n",
       "      <td>The Legend of Zelda: Ocarina of Time</td>\n",
       "      <td>Nintendo64</td>\n",
       "      <td>10</td>\n",
       "      <td>StevenA</td>\n",
       "    </tr>\n",
       "    <tr>\n",
       "      <td>2</td>\n",
       "      <td>The Legend of Zelda: Ocarina of Time</td>\n",
       "      <td>Nintendo64</td>\n",
       "      <td>10</td>\n",
       "      <td>Nosidda89</td>\n",
       "    </tr>\n",
       "    <tr>\n",
       "      <td>3</td>\n",
       "      <td>The Legend of Zelda: Ocarina of Time</td>\n",
       "      <td>Nintendo64</td>\n",
       "      <td>10</td>\n",
       "      <td>KendylKlownfish</td>\n",
       "    </tr>\n",
       "    <tr>\n",
       "      <td>4</td>\n",
       "      <td>The Legend of Zelda: Ocarina of Time</td>\n",
       "      <td>Nintendo64</td>\n",
       "      <td>10</td>\n",
       "      <td>Bolts</td>\n",
       "    </tr>\n",
       "  </tbody>\n",
       "</table>\n",
       "</div>"
      ],
      "text/plain": [
       "                                  Title    Platform  Userscore  \\\n",
       "0  The Legend of Zelda: Ocarina of Time  Nintendo64         10   \n",
       "1  The Legend of Zelda: Ocarina of Time  Nintendo64         10   \n",
       "2  The Legend of Zelda: Ocarina of Time  Nintendo64         10   \n",
       "3  The Legend of Zelda: Ocarina of Time  Nintendo64         10   \n",
       "4  The Legend of Zelda: Ocarina of Time  Nintendo64         10   \n",
       "\n",
       "          Username  \n",
       "0       doodlerman  \n",
       "1          StevenA  \n",
       "2        Nosidda89  \n",
       "3  KendylKlownfish  \n",
       "4            Bolts  "
      ]
     },
     "execution_count": 10,
     "metadata": {},
     "output_type": "execute_result"
    }
   ],
   "source": [
    "df_game_comments.head()"
   ]
  },
  {
   "cell_type": "code",
   "execution_count": 11,
   "metadata": {},
   "outputs": [
    {
     "data": {
      "text/html": [
       "<div>\n",
       "<style scoped>\n",
       "    .dataframe tbody tr th:only-of-type {\n",
       "        vertical-align: middle;\n",
       "    }\n",
       "\n",
       "    .dataframe tbody tr th {\n",
       "        vertical-align: top;\n",
       "    }\n",
       "\n",
       "    .dataframe thead th {\n",
       "        text-align: right;\n",
       "    }\n",
       "</style>\n",
       "<table border=\"1\" class=\"dataframe\">\n",
       "  <thead>\n",
       "    <tr style=\"text-align: right;\">\n",
       "      <th></th>\n",
       "      <th>Title</th>\n",
       "      <th>Year</th>\n",
       "      <th>Publisher</th>\n",
       "      <th>Genre</th>\n",
       "      <th>Platform</th>\n",
       "      <th>Metascore</th>\n",
       "      <th>Avg_Userscore</th>\n",
       "      <th>No_Players</th>\n",
       "    </tr>\n",
       "  </thead>\n",
       "  <tbody>\n",
       "    <tr>\n",
       "      <td>0</td>\n",
       "      <td>The Legend of Zelda: Ocarina of Time</td>\n",
       "      <td>1998</td>\n",
       "      <td>Nintendo</td>\n",
       "      <td>Action Adventure;Fantasy</td>\n",
       "      <td>Nintendo64</td>\n",
       "      <td>99</td>\n",
       "      <td>9.1</td>\n",
       "      <td>1 Player</td>\n",
       "    </tr>\n",
       "    <tr>\n",
       "      <td>1</td>\n",
       "      <td>Tony Hawk's Pro Skater 2</td>\n",
       "      <td>2000</td>\n",
       "      <td>NeversoftEntertainment</td>\n",
       "      <td>Sports;Alternative;Skateboarding</td>\n",
       "      <td>PlayStation</td>\n",
       "      <td>98</td>\n",
       "      <td>7.4</td>\n",
       "      <td>1-2</td>\n",
       "    </tr>\n",
       "    <tr>\n",
       "      <td>2</td>\n",
       "      <td>Grand Theft Auto IV</td>\n",
       "      <td>2008</td>\n",
       "      <td>RockstarNorth</td>\n",
       "      <td>Action Adventure;Modern;Modern;Open-World</td>\n",
       "      <td>PlayStation3</td>\n",
       "      <td>98</td>\n",
       "      <td>7.5</td>\n",
       "      <td>1 Player</td>\n",
       "    </tr>\n",
       "    <tr>\n",
       "      <td>3</td>\n",
       "      <td>SoulCalibur</td>\n",
       "      <td>1999</td>\n",
       "      <td>Namco</td>\n",
       "      <td>Action;Fighting;3D</td>\n",
       "      <td>Dreamcast</td>\n",
       "      <td>98</td>\n",
       "      <td>8.6</td>\n",
       "      <td>1-2</td>\n",
       "    </tr>\n",
       "    <tr>\n",
       "      <td>4</td>\n",
       "      <td>Grand Theft Auto IV</td>\n",
       "      <td>2008</td>\n",
       "      <td>RockstarNorth</td>\n",
       "      <td>Action Adventure;Modern;Modern;Open-World</td>\n",
       "      <td>Xbox360</td>\n",
       "      <td>98</td>\n",
       "      <td>7.9</td>\n",
       "      <td>1 Player</td>\n",
       "    </tr>\n",
       "  </tbody>\n",
       "</table>\n",
       "</div>"
      ],
      "text/plain": [
       "                                  Title  Year               Publisher  \\\n",
       "0  The Legend of Zelda: Ocarina of Time  1998                Nintendo   \n",
       "1              Tony Hawk's Pro Skater 2  2000  NeversoftEntertainment   \n",
       "2                   Grand Theft Auto IV  2008           RockstarNorth   \n",
       "3                           SoulCalibur  1999                   Namco   \n",
       "4                   Grand Theft Auto IV  2008           RockstarNorth   \n",
       "\n",
       "                                       Genre      Platform Metascore  \\\n",
       "0                   Action Adventure;Fantasy    Nintendo64        99   \n",
       "1           Sports;Alternative;Skateboarding   PlayStation        98   \n",
       "2  Action Adventure;Modern;Modern;Open-World  PlayStation3        98   \n",
       "3                         Action;Fighting;3D     Dreamcast        98   \n",
       "4  Action Adventure;Modern;Modern;Open-World       Xbox360        98   \n",
       "\n",
       "  Avg_Userscore No_Players  \n",
       "0           9.1   1 Player  \n",
       "1           7.4       1-2   \n",
       "2           7.5   1 Player  \n",
       "3           8.6       1-2   \n",
       "4           7.9   1 Player  "
      ]
     },
     "execution_count": 11,
     "metadata": {},
     "output_type": "execute_result"
    }
   ],
   "source": [
    "df_game_info.head()"
   ]
  },
  {
   "cell_type": "code",
   "execution_count": 12,
   "metadata": {},
   "outputs": [
    {
     "data": {
      "text/plain": [
       "Madden NFL 07                                      7\n",
       "Marvel: Ultimate Alliance                          6\n",
       "This page isn’t working                            6\n",
       "Tony Hawk's Pro Skater 3                           6\n",
       "Grand Theft Auto V                                 5\n",
       "                                                  ..\n",
       "FTL: Faster Than Light                             1\n",
       "ECHO                                               1\n",
       "Kohan: Ahriman's Gift                              1\n",
       "Tribes: Vengeance                                  1\n",
       "The 2D Adventures of Rotating Octopus Character    1\n",
       "Name: Title, Length: 3438, dtype: int64"
      ]
     },
     "execution_count": 12,
     "metadata": {},
     "output_type": "execute_result"
    }
   ],
   "source": [
    "df_game_info[\"Title\"].value_counts()"
   ]
  },
  {
   "cell_type": "markdown",
   "metadata": {},
   "source": [
    "Same game might have different titles but for different plaforms. We need to uniquely identify the game."
   ]
  },
  {
   "cell_type": "code",
   "execution_count": 13,
   "metadata": {},
   "outputs": [
    {
     "data": {
      "text/html": [
       "<div>\n",
       "<style scoped>\n",
       "    .dataframe tbody tr th:only-of-type {\n",
       "        vertical-align: middle;\n",
       "    }\n",
       "\n",
       "    .dataframe tbody tr th {\n",
       "        vertical-align: top;\n",
       "    }\n",
       "\n",
       "    .dataframe thead th {\n",
       "        text-align: right;\n",
       "    }\n",
       "</style>\n",
       "<table border=\"1\" class=\"dataframe\">\n",
       "  <thead>\n",
       "    <tr style=\"text-align: right;\">\n",
       "      <th></th>\n",
       "      <th>Title</th>\n",
       "      <th>Year</th>\n",
       "      <th>Publisher</th>\n",
       "      <th>Genre</th>\n",
       "      <th>Platform</th>\n",
       "      <th>Metascore</th>\n",
       "      <th>Avg_Userscore</th>\n",
       "      <th>No_Players</th>\n",
       "    </tr>\n",
       "  </thead>\n",
       "  <tbody>\n",
       "    <tr>\n",
       "      <td>1880</td>\n",
       "      <td>Madden NFL 07</td>\n",
       "      <td>2006</td>\n",
       "      <td>EASports</td>\n",
       "      <td>Sports;Traditional;Football;Sim</td>\n",
       "      <td>PlayStation2</td>\n",
       "      <td>84</td>\n",
       "      <td>8.2</td>\n",
       "      <td>1-2</td>\n",
       "    </tr>\n",
       "    <tr>\n",
       "      <td>2206</td>\n",
       "      <td>Madden NFL 07</td>\n",
       "      <td>2006</td>\n",
       "      <td>EATiburon</td>\n",
       "      <td>Sports;Traditional;Football;Sim</td>\n",
       "      <td>Xbox</td>\n",
       "      <td>83</td>\n",
       "      <td>8.7</td>\n",
       "      <td>1-4</td>\n",
       "    </tr>\n",
       "    <tr>\n",
       "      <td>2531</td>\n",
       "      <td>Madden NFL 07</td>\n",
       "      <td>2006</td>\n",
       "      <td>EATiburon</td>\n",
       "      <td>Sports;Traditional;Football;Sim</td>\n",
       "      <td>GameCube</td>\n",
       "      <td>82</td>\n",
       "      <td>7.8</td>\n",
       "      <td>2  Online</td>\n",
       "    </tr>\n",
       "    <tr>\n",
       "      <td>3125</td>\n",
       "      <td>Madden NFL 07</td>\n",
       "      <td>2006</td>\n",
       "      <td>EACanada</td>\n",
       "      <td>Sports;Traditional;Team;Football;Sim;Sim</td>\n",
       "      <td>Wii</td>\n",
       "      <td>81</td>\n",
       "      <td>8.0</td>\n",
       "      <td>No Online Multiplayer</td>\n",
       "    </tr>\n",
       "    <tr>\n",
       "      <td>3360</td>\n",
       "      <td>Madden NFL 07</td>\n",
       "      <td>2006</td>\n",
       "      <td>EATiburon</td>\n",
       "      <td>Sports;Traditional;Team;Football;Sim;Sim</td>\n",
       "      <td>Xbox360</td>\n",
       "      <td>80</td>\n",
       "      <td>6.0</td>\n",
       "      <td>2  Online</td>\n",
       "    </tr>\n",
       "    <tr>\n",
       "      <td>3428</td>\n",
       "      <td>Madden NFL 07</td>\n",
       "      <td>2006</td>\n",
       "      <td>EATiburon</td>\n",
       "      <td>Sports;Traditional;Team;Football;Sim;Sim</td>\n",
       "      <td>PC</td>\n",
       "      <td>80</td>\n",
       "      <td>7.3</td>\n",
       "      <td>2  Online</td>\n",
       "    </tr>\n",
       "    <tr>\n",
       "      <td>4388</td>\n",
       "      <td>Madden NFL 07</td>\n",
       "      <td>2006</td>\n",
       "      <td>EATiburon</td>\n",
       "      <td>Sports;Traditional;Team;Football;Sim;Sim</td>\n",
       "      <td>PSP</td>\n",
       "      <td>78</td>\n",
       "      <td>6.6</td>\n",
       "      <td>1-2</td>\n",
       "    </tr>\n",
       "  </tbody>\n",
       "</table>\n",
       "</div>"
      ],
      "text/plain": [
       "              Title  Year  Publisher  \\\n",
       "1880  Madden NFL 07  2006   EASports   \n",
       "2206  Madden NFL 07  2006  EATiburon   \n",
       "2531  Madden NFL 07  2006  EATiburon   \n",
       "3125  Madden NFL 07  2006   EACanada   \n",
       "3360  Madden NFL 07  2006  EATiburon   \n",
       "3428  Madden NFL 07  2006  EATiburon   \n",
       "4388  Madden NFL 07  2006  EATiburon   \n",
       "\n",
       "                                         Genre      Platform Metascore  \\\n",
       "1880           Sports;Traditional;Football;Sim  PlayStation2        84   \n",
       "2206           Sports;Traditional;Football;Sim          Xbox        83   \n",
       "2531           Sports;Traditional;Football;Sim      GameCube        82   \n",
       "3125  Sports;Traditional;Team;Football;Sim;Sim           Wii        81   \n",
       "3360  Sports;Traditional;Team;Football;Sim;Sim       Xbox360        80   \n",
       "3428  Sports;Traditional;Team;Football;Sim;Sim            PC        80   \n",
       "4388  Sports;Traditional;Team;Football;Sim;Sim           PSP        78   \n",
       "\n",
       "     Avg_Userscore             No_Players  \n",
       "1880           8.2                   1-2   \n",
       "2206           8.7                   1-4   \n",
       "2531           7.8              2  Online  \n",
       "3125           8.0  No Online Multiplayer  \n",
       "3360           6.0              2  Online  \n",
       "3428           7.3              2  Online  \n",
       "4388           6.6                   1-2   "
      ]
     },
     "execution_count": 13,
     "metadata": {},
     "output_type": "execute_result"
    }
   ],
   "source": [
    "df_game_info[df_game_info[\"Title\"] == \"Madden NFL 07\"]"
   ]
  },
  {
   "cell_type": "code",
   "execution_count": 14,
   "metadata": {},
   "outputs": [],
   "source": [
    "def create_game_ids(df):\n",
    "    \"\"\"Return dictionary of game titles for specific plaform mapped to unique ID\"\"\"\n",
    "\n",
    "    game_ids = {}\n",
    "    for idx, key in enumerate(\n",
    "        np.unique((df[\"Title\"] + \" for \" + df[\"Platform\"]).values)\n",
    "    ):\n",
    "        game_ids[key] = idx\n",
    "\n",
    "    return game_ids\n",
    "\n",
    "\n",
    "def apply_game_ids(df, game_ids):\n",
    "    df[\"GameID\"] = df.apply(\n",
    "        lambda x: game_ids[(x[\"Title\"] + \" for \" + x[\"Platform\"])], axis=1\n",
    "    )\n",
    "\n",
    "    return df"
   ]
  },
  {
   "cell_type": "code",
   "execution_count": 15,
   "metadata": {},
   "outputs": [],
   "source": [
    "game_ids = create_game_ids(df_game_info)\n",
    "df_game_info = apply_game_ids(df_game_info, game_ids)"
   ]
  },
  {
   "cell_type": "code",
   "execution_count": 16,
   "metadata": {},
   "outputs": [
    {
     "data": {
      "text/html": [
       "<div>\n",
       "<style scoped>\n",
       "    .dataframe tbody tr th:only-of-type {\n",
       "        vertical-align: middle;\n",
       "    }\n",
       "\n",
       "    .dataframe tbody tr th {\n",
       "        vertical-align: top;\n",
       "    }\n",
       "\n",
       "    .dataframe thead th {\n",
       "        text-align: right;\n",
       "    }\n",
       "</style>\n",
       "<table border=\"1\" class=\"dataframe\">\n",
       "  <thead>\n",
       "    <tr style=\"text-align: right;\">\n",
       "      <th></th>\n",
       "      <th>Title</th>\n",
       "      <th>Year</th>\n",
       "      <th>Publisher</th>\n",
       "      <th>Genre</th>\n",
       "      <th>Platform</th>\n",
       "      <th>Metascore</th>\n",
       "      <th>Avg_Userscore</th>\n",
       "      <th>No_Players</th>\n",
       "      <th>GameID</th>\n",
       "    </tr>\n",
       "  </thead>\n",
       "  <tbody>\n",
       "    <tr>\n",
       "      <td>0</td>\n",
       "      <td>The Legend of Zelda: Ocarina of Time</td>\n",
       "      <td>1998</td>\n",
       "      <td>Nintendo</td>\n",
       "      <td>Action Adventure;Fantasy</td>\n",
       "      <td>Nintendo64</td>\n",
       "      <td>99</td>\n",
       "      <td>9.1</td>\n",
       "      <td>1 Player</td>\n",
       "      <td>4209</td>\n",
       "    </tr>\n",
       "    <tr>\n",
       "      <td>1</td>\n",
       "      <td>Tony Hawk's Pro Skater 2</td>\n",
       "      <td>2000</td>\n",
       "      <td>NeversoftEntertainment</td>\n",
       "      <td>Sports;Alternative;Skateboarding</td>\n",
       "      <td>PlayStation</td>\n",
       "      <td>98</td>\n",
       "      <td>7.4</td>\n",
       "      <td>1-2</td>\n",
       "      <td>4535</td>\n",
       "    </tr>\n",
       "    <tr>\n",
       "      <td>2</td>\n",
       "      <td>Grand Theft Auto IV</td>\n",
       "      <td>2008</td>\n",
       "      <td>RockstarNorth</td>\n",
       "      <td>Action Adventure;Modern;Modern;Open-World</td>\n",
       "      <td>PlayStation3</td>\n",
       "      <td>98</td>\n",
       "      <td>7.5</td>\n",
       "      <td>1 Player</td>\n",
       "      <td>1612</td>\n",
       "    </tr>\n",
       "    <tr>\n",
       "      <td>3</td>\n",
       "      <td>SoulCalibur</td>\n",
       "      <td>1999</td>\n",
       "      <td>Namco</td>\n",
       "      <td>Action;Fighting;3D</td>\n",
       "      <td>Dreamcast</td>\n",
       "      <td>98</td>\n",
       "      <td>8.6</td>\n",
       "      <td>1-2</td>\n",
       "      <td>3725</td>\n",
       "    </tr>\n",
       "    <tr>\n",
       "      <td>4</td>\n",
       "      <td>Grand Theft Auto IV</td>\n",
       "      <td>2008</td>\n",
       "      <td>RockstarNorth</td>\n",
       "      <td>Action Adventure;Modern;Modern;Open-World</td>\n",
       "      <td>Xbox360</td>\n",
       "      <td>98</td>\n",
       "      <td>7.9</td>\n",
       "      <td>1 Player</td>\n",
       "      <td>1613</td>\n",
       "    </tr>\n",
       "  </tbody>\n",
       "</table>\n",
       "</div>"
      ],
      "text/plain": [
       "                                  Title  Year               Publisher  \\\n",
       "0  The Legend of Zelda: Ocarina of Time  1998                Nintendo   \n",
       "1              Tony Hawk's Pro Skater 2  2000  NeversoftEntertainment   \n",
       "2                   Grand Theft Auto IV  2008           RockstarNorth   \n",
       "3                           SoulCalibur  1999                   Namco   \n",
       "4                   Grand Theft Auto IV  2008           RockstarNorth   \n",
       "\n",
       "                                       Genre      Platform Metascore  \\\n",
       "0                   Action Adventure;Fantasy    Nintendo64        99   \n",
       "1           Sports;Alternative;Skateboarding   PlayStation        98   \n",
       "2  Action Adventure;Modern;Modern;Open-World  PlayStation3        98   \n",
       "3                         Action;Fighting;3D     Dreamcast        98   \n",
       "4  Action Adventure;Modern;Modern;Open-World       Xbox360        98   \n",
       "\n",
       "  Avg_Userscore No_Players  GameID  \n",
       "0           9.1   1 Player    4209  \n",
       "1           7.4       1-2     4535  \n",
       "2           7.5   1 Player    1612  \n",
       "3           8.6       1-2     3725  \n",
       "4           7.9   1 Player    1613  "
      ]
     },
     "execution_count": 16,
     "metadata": {},
     "output_type": "execute_result"
    }
   ],
   "source": [
    "df_game_info.head()"
   ]
  },
  {
   "cell_type": "code",
   "execution_count": 17,
   "metadata": {},
   "outputs": [
    {
     "data": {
      "text/plain": [
       "(5000, 4993)"
      ]
     },
     "execution_count": 17,
     "metadata": {},
     "output_type": "execute_result"
    }
   ],
   "source": [
    "len(df_game_info), len(np.unique(df_game_info[\"GameID\"]))"
   ]
  },
  {
   "cell_type": "code",
   "execution_count": 18,
   "metadata": {},
   "outputs": [
    {
     "data": {
      "text/plain": [
       "4391    6\n",
       "205     3\n",
       "2047    1\n",
       "557     1\n",
       "549     1\n",
       "       ..\n",
       "3263    1\n",
       "1218    1\n",
       "3267    1\n",
       "1222    1\n",
       "0       1\n",
       "Name: GameID, Length: 4993, dtype: int64"
      ]
     },
     "execution_count": 18,
     "metadata": {},
     "output_type": "execute_result"
    }
   ],
   "source": [
    "df_game_info[\"GameID\"].value_counts()"
   ]
  },
  {
   "cell_type": "markdown",
   "metadata": {},
   "source": [
    "It appears we still have some duplicates"
   ]
  },
  {
   "cell_type": "code",
   "execution_count": 19,
   "metadata": {},
   "outputs": [
    {
     "data": {
      "text/html": [
       "<div>\n",
       "<style scoped>\n",
       "    .dataframe tbody tr th:only-of-type {\n",
       "        vertical-align: middle;\n",
       "    }\n",
       "\n",
       "    .dataframe tbody tr th {\n",
       "        vertical-align: top;\n",
       "    }\n",
       "\n",
       "    .dataframe thead th {\n",
       "        text-align: right;\n",
       "    }\n",
       "</style>\n",
       "<table border=\"1\" class=\"dataframe\">\n",
       "  <thead>\n",
       "    <tr style=\"text-align: right;\">\n",
       "      <th></th>\n",
       "      <th>Title</th>\n",
       "      <th>Year</th>\n",
       "      <th>Publisher</th>\n",
       "      <th>Genre</th>\n",
       "      <th>Platform</th>\n",
       "      <th>Metascore</th>\n",
       "      <th>Avg_Userscore</th>\n",
       "      <th>No_Players</th>\n",
       "      <th>GameID</th>\n",
       "    </tr>\n",
       "  </thead>\n",
       "  <tbody>\n",
       "    <tr>\n",
       "      <td>1360</td>\n",
       "      <td>Bad Request</td>\n",
       "      <td>not specified</td>\n",
       "      <td>not specified</td>\n",
       "      <td>no genre</td>\n",
       "      <td>not specified</td>\n",
       "      <td>not specified</td>\n",
       "      <td>not specified</td>\n",
       "      <td>not specified</td>\n",
       "      <td>205</td>\n",
       "    </tr>\n",
       "    <tr>\n",
       "      <td>2122</td>\n",
       "      <td>This page isn’t working</td>\n",
       "      <td>not specified</td>\n",
       "      <td>not specified</td>\n",
       "      <td>no genre</td>\n",
       "      <td>not specified</td>\n",
       "      <td>not specified</td>\n",
       "      <td>not specified</td>\n",
       "      <td>not specified</td>\n",
       "      <td>4391</td>\n",
       "    </tr>\n",
       "    <tr>\n",
       "      <td>2123</td>\n",
       "      <td>This page isn’t working</td>\n",
       "      <td>not specified</td>\n",
       "      <td>not specified</td>\n",
       "      <td>no genre</td>\n",
       "      <td>not specified</td>\n",
       "      <td>not specified</td>\n",
       "      <td>not specified</td>\n",
       "      <td>not specified</td>\n",
       "      <td>4391</td>\n",
       "    </tr>\n",
       "    <tr>\n",
       "      <td>2124</td>\n",
       "      <td>This page isn’t working</td>\n",
       "      <td>not specified</td>\n",
       "      <td>not specified</td>\n",
       "      <td>no genre</td>\n",
       "      <td>not specified</td>\n",
       "      <td>not specified</td>\n",
       "      <td>not specified</td>\n",
       "      <td>not specified</td>\n",
       "      <td>4391</td>\n",
       "    </tr>\n",
       "    <tr>\n",
       "      <td>2125</td>\n",
       "      <td>This page isn’t working</td>\n",
       "      <td>not specified</td>\n",
       "      <td>not specified</td>\n",
       "      <td>no genre</td>\n",
       "      <td>not specified</td>\n",
       "      <td>not specified</td>\n",
       "      <td>not specified</td>\n",
       "      <td>not specified</td>\n",
       "      <td>4391</td>\n",
       "    </tr>\n",
       "    <tr>\n",
       "      <td>2126</td>\n",
       "      <td>This page isn’t working</td>\n",
       "      <td>not specified</td>\n",
       "      <td>not specified</td>\n",
       "      <td>no genre</td>\n",
       "      <td>not specified</td>\n",
       "      <td>not specified</td>\n",
       "      <td>not specified</td>\n",
       "      <td>not specified</td>\n",
       "      <td>4391</td>\n",
       "    </tr>\n",
       "    <tr>\n",
       "      <td>2127</td>\n",
       "      <td>This page isn’t working</td>\n",
       "      <td>not specified</td>\n",
       "      <td>not specified</td>\n",
       "      <td>no genre</td>\n",
       "      <td>not specified</td>\n",
       "      <td>not specified</td>\n",
       "      <td>not specified</td>\n",
       "      <td>not specified</td>\n",
       "      <td>4391</td>\n",
       "    </tr>\n",
       "    <tr>\n",
       "      <td>4408</td>\n",
       "      <td>Bad Request</td>\n",
       "      <td>not specified</td>\n",
       "      <td>not specified</td>\n",
       "      <td>no genre</td>\n",
       "      <td>not specified</td>\n",
       "      <td>not specified</td>\n",
       "      <td>not specified</td>\n",
       "      <td>not specified</td>\n",
       "      <td>205</td>\n",
       "    </tr>\n",
       "    <tr>\n",
       "      <td>4434</td>\n",
       "      <td>Bad Request</td>\n",
       "      <td>not specified</td>\n",
       "      <td>not specified</td>\n",
       "      <td>no genre</td>\n",
       "      <td>not specified</td>\n",
       "      <td>not specified</td>\n",
       "      <td>not specified</td>\n",
       "      <td>not specified</td>\n",
       "      <td>205</td>\n",
       "    </tr>\n",
       "  </tbody>\n",
       "</table>\n",
       "</div>"
      ],
      "text/plain": [
       "                        Title           Year      Publisher     Genre  \\\n",
       "1360              Bad Request  not specified  not specified  no genre   \n",
       "2122  This page isn’t working  not specified  not specified  no genre   \n",
       "2123  This page isn’t working  not specified  not specified  no genre   \n",
       "2124  This page isn’t working  not specified  not specified  no genre   \n",
       "2125  This page isn’t working  not specified  not specified  no genre   \n",
       "2126  This page isn’t working  not specified  not specified  no genre   \n",
       "2127  This page isn’t working  not specified  not specified  no genre   \n",
       "4408              Bad Request  not specified  not specified  no genre   \n",
       "4434              Bad Request  not specified  not specified  no genre   \n",
       "\n",
       "           Platform      Metascore  Avg_Userscore     No_Players  GameID  \n",
       "1360  not specified  not specified  not specified  not specified     205  \n",
       "2122  not specified  not specified  not specified  not specified    4391  \n",
       "2123  not specified  not specified  not specified  not specified    4391  \n",
       "2124  not specified  not specified  not specified  not specified    4391  \n",
       "2125  not specified  not specified  not specified  not specified    4391  \n",
       "2126  not specified  not specified  not specified  not specified    4391  \n",
       "2127  not specified  not specified  not specified  not specified    4391  \n",
       "4408  not specified  not specified  not specified  not specified     205  \n",
       "4434  not specified  not specified  not specified  not specified     205  "
      ]
     },
     "execution_count": 19,
     "metadata": {},
     "output_type": "execute_result"
    }
   ],
   "source": [
    "df_game_info[df_game_info[\"GameID\"].isin([4391, 205])]"
   ]
  },
  {
   "cell_type": "code",
   "execution_count": 20,
   "metadata": {},
   "outputs": [],
   "source": [
    "df_game_info = df_game_info.loc[\n",
    "    ~df_game_info[\"GameID\"].isin([4391, 205]), :\n",
    "].reset_index(drop=True)"
   ]
  },
  {
   "cell_type": "code",
   "execution_count": 21,
   "metadata": {},
   "outputs": [
    {
     "data": {
      "text/plain": [
       "(4991, 4991)"
      ]
     },
     "execution_count": 21,
     "metadata": {},
     "output_type": "execute_result"
    }
   ],
   "source": [
    "len(df_game_info), len(np.unique(df_game_info[\"GameID\"]))"
   ]
  },
  {
   "cell_type": "code",
   "execution_count": 22,
   "metadata": {},
   "outputs": [],
   "source": [
    "df_game_comments = apply_game_ids(df_game_comments, game_ids)"
   ]
  },
  {
   "cell_type": "code",
   "execution_count": 23,
   "metadata": {},
   "outputs": [],
   "source": [
    "df_game_comments[\"UserID\"] = df_game_comments.groupby(\"Username\").ngroup()"
   ]
  },
  {
   "cell_type": "code",
   "execution_count": 24,
   "metadata": {},
   "outputs": [
    {
     "data": {
      "text/html": [
       "<div>\n",
       "<style scoped>\n",
       "    .dataframe tbody tr th:only-of-type {\n",
       "        vertical-align: middle;\n",
       "    }\n",
       "\n",
       "    .dataframe tbody tr th {\n",
       "        vertical-align: top;\n",
       "    }\n",
       "\n",
       "    .dataframe thead th {\n",
       "        text-align: right;\n",
       "    }\n",
       "</style>\n",
       "<table border=\"1\" class=\"dataframe\">\n",
       "  <thead>\n",
       "    <tr style=\"text-align: right;\">\n",
       "      <th></th>\n",
       "      <th>Title</th>\n",
       "      <th>Platform</th>\n",
       "      <th>Userscore</th>\n",
       "      <th>Username</th>\n",
       "      <th>GameID</th>\n",
       "      <th>UserID</th>\n",
       "    </tr>\n",
       "  </thead>\n",
       "  <tbody>\n",
       "    <tr>\n",
       "      <td>0</td>\n",
       "      <td>The Legend of Zelda: Ocarina of Time</td>\n",
       "      <td>Nintendo64</td>\n",
       "      <td>10</td>\n",
       "      <td>doodlerman</td>\n",
       "      <td>4209</td>\n",
       "      <td>7976</td>\n",
       "    </tr>\n",
       "    <tr>\n",
       "      <td>1</td>\n",
       "      <td>The Legend of Zelda: Ocarina of Time</td>\n",
       "      <td>Nintendo64</td>\n",
       "      <td>10</td>\n",
       "      <td>StevenA</td>\n",
       "      <td>4209</td>\n",
       "      <td>6221</td>\n",
       "    </tr>\n",
       "    <tr>\n",
       "      <td>2</td>\n",
       "      <td>The Legend of Zelda: Ocarina of Time</td>\n",
       "      <td>Nintendo64</td>\n",
       "      <td>10</td>\n",
       "      <td>Nosidda89</td>\n",
       "      <td>4209</td>\n",
       "      <td>4864</td>\n",
       "    </tr>\n",
       "    <tr>\n",
       "      <td>3</td>\n",
       "      <td>The Legend of Zelda: Ocarina of Time</td>\n",
       "      <td>Nintendo64</td>\n",
       "      <td>10</td>\n",
       "      <td>KendylKlownfish</td>\n",
       "      <td>4209</td>\n",
       "      <td>3634</td>\n",
       "    </tr>\n",
       "    <tr>\n",
       "      <td>4</td>\n",
       "      <td>The Legend of Zelda: Ocarina of Time</td>\n",
       "      <td>Nintendo64</td>\n",
       "      <td>10</td>\n",
       "      <td>Bolts</td>\n",
       "      <td>4209</td>\n",
       "      <td>818</td>\n",
       "    </tr>\n",
       "  </tbody>\n",
       "</table>\n",
       "</div>"
      ],
      "text/plain": [
       "                                  Title    Platform  Userscore  \\\n",
       "0  The Legend of Zelda: Ocarina of Time  Nintendo64         10   \n",
       "1  The Legend of Zelda: Ocarina of Time  Nintendo64         10   \n",
       "2  The Legend of Zelda: Ocarina of Time  Nintendo64         10   \n",
       "3  The Legend of Zelda: Ocarina of Time  Nintendo64         10   \n",
       "4  The Legend of Zelda: Ocarina of Time  Nintendo64         10   \n",
       "\n",
       "          Username  GameID  UserID  \n",
       "0       doodlerman    4209    7976  \n",
       "1          StevenA    4209    6221  \n",
       "2        Nosidda89    4209    4864  \n",
       "3  KendylKlownfish    4209    3634  \n",
       "4            Bolts    4209     818  "
      ]
     },
     "execution_count": 24,
     "metadata": {},
     "output_type": "execute_result"
    }
   ],
   "source": [
    "df_game_comments.head()"
   ]
  },
  {
   "cell_type": "code",
   "execution_count": 25,
   "metadata": {},
   "outputs": [],
   "source": [
    "df = df_game_comments.drop([\"Title\", \"Platform\", \"Username\"], axis=1)"
   ]
  },
  {
   "cell_type": "code",
   "execution_count": 26,
   "metadata": {},
   "outputs": [],
   "source": [
    "df = df.merge(df_game_info, left_on=\"GameID\", right_on=\"GameID\")"
   ]
  },
  {
   "cell_type": "code",
   "execution_count": 27,
   "metadata": {},
   "outputs": [
    {
     "data": {
      "text/html": [
       "<div>\n",
       "<style scoped>\n",
       "    .dataframe tbody tr th:only-of-type {\n",
       "        vertical-align: middle;\n",
       "    }\n",
       "\n",
       "    .dataframe tbody tr th {\n",
       "        vertical-align: top;\n",
       "    }\n",
       "\n",
       "    .dataframe thead th {\n",
       "        text-align: right;\n",
       "    }\n",
       "</style>\n",
       "<table border=\"1\" class=\"dataframe\">\n",
       "  <thead>\n",
       "    <tr style=\"text-align: right;\">\n",
       "      <th></th>\n",
       "      <th>Userscore</th>\n",
       "      <th>GameID</th>\n",
       "      <th>UserID</th>\n",
       "      <th>Title</th>\n",
       "      <th>Year</th>\n",
       "      <th>Publisher</th>\n",
       "      <th>Genre</th>\n",
       "      <th>Platform</th>\n",
       "      <th>Metascore</th>\n",
       "      <th>Avg_Userscore</th>\n",
       "      <th>No_Players</th>\n",
       "    </tr>\n",
       "  </thead>\n",
       "  <tbody>\n",
       "    <tr>\n",
       "      <td>56092</td>\n",
       "      <td>10</td>\n",
       "      <td>1126</td>\n",
       "      <td>7739</td>\n",
       "      <td>Error 503 Service Unavailable</td>\n",
       "      <td>not specified</td>\n",
       "      <td>not specified</td>\n",
       "      <td>no genre</td>\n",
       "      <td>not specified</td>\n",
       "      <td>not specified</td>\n",
       "      <td>not specified</td>\n",
       "      <td>not specified</td>\n",
       "    </tr>\n",
       "    <tr>\n",
       "      <td>56093</td>\n",
       "      <td>9</td>\n",
       "      <td>1126</td>\n",
       "      <td>1202</td>\n",
       "      <td>Error 503 Service Unavailable</td>\n",
       "      <td>not specified</td>\n",
       "      <td>not specified</td>\n",
       "      <td>no genre</td>\n",
       "      <td>not specified</td>\n",
       "      <td>not specified</td>\n",
       "      <td>not specified</td>\n",
       "      <td>not specified</td>\n",
       "    </tr>\n",
       "    <tr>\n",
       "      <td>56094</td>\n",
       "      <td>10</td>\n",
       "      <td>1126</td>\n",
       "      <td>4040</td>\n",
       "      <td>Error 503 Service Unavailable</td>\n",
       "      <td>not specified</td>\n",
       "      <td>not specified</td>\n",
       "      <td>no genre</td>\n",
       "      <td>not specified</td>\n",
       "      <td>not specified</td>\n",
       "      <td>not specified</td>\n",
       "      <td>not specified</td>\n",
       "    </tr>\n",
       "    <tr>\n",
       "      <td>56095</td>\n",
       "      <td>5</td>\n",
       "      <td>1126</td>\n",
       "      <td>2215</td>\n",
       "      <td>Error 503 Service Unavailable</td>\n",
       "      <td>not specified</td>\n",
       "      <td>not specified</td>\n",
       "      <td>no genre</td>\n",
       "      <td>not specified</td>\n",
       "      <td>not specified</td>\n",
       "      <td>not specified</td>\n",
       "      <td>not specified</td>\n",
       "    </tr>\n",
       "    <tr>\n",
       "      <td>56096</td>\n",
       "      <td>9</td>\n",
       "      <td>1126</td>\n",
       "      <td>4634</td>\n",
       "      <td>Error 503 Service Unavailable</td>\n",
       "      <td>not specified</td>\n",
       "      <td>not specified</td>\n",
       "      <td>no genre</td>\n",
       "      <td>not specified</td>\n",
       "      <td>not specified</td>\n",
       "      <td>not specified</td>\n",
       "      <td>not specified</td>\n",
       "    </tr>\n",
       "    <tr>\n",
       "      <td>56097</td>\n",
       "      <td>6</td>\n",
       "      <td>1126</td>\n",
       "      <td>9103</td>\n",
       "      <td>Error 503 Service Unavailable</td>\n",
       "      <td>not specified</td>\n",
       "      <td>not specified</td>\n",
       "      <td>no genre</td>\n",
       "      <td>not specified</td>\n",
       "      <td>not specified</td>\n",
       "      <td>not specified</td>\n",
       "      <td>not specified</td>\n",
       "    </tr>\n",
       "  </tbody>\n",
       "</table>\n",
       "</div>"
      ],
      "text/plain": [
       "       Userscore  GameID  UserID                          Title  \\\n",
       "56092         10    1126    7739  Error 503 Service Unavailable   \n",
       "56093          9    1126    1202  Error 503 Service Unavailable   \n",
       "56094         10    1126    4040  Error 503 Service Unavailable   \n",
       "56095          5    1126    2215  Error 503 Service Unavailable   \n",
       "56096          9    1126    4634  Error 503 Service Unavailable   \n",
       "56097          6    1126    9103  Error 503 Service Unavailable   \n",
       "\n",
       "                Year      Publisher     Genre       Platform      Metascore  \\\n",
       "56092  not specified  not specified  no genre  not specified  not specified   \n",
       "56093  not specified  not specified  no genre  not specified  not specified   \n",
       "56094  not specified  not specified  no genre  not specified  not specified   \n",
       "56095  not specified  not specified  no genre  not specified  not specified   \n",
       "56096  not specified  not specified  no genre  not specified  not specified   \n",
       "56097  not specified  not specified  no genre  not specified  not specified   \n",
       "\n",
       "       Avg_Userscore     No_Players  \n",
       "56092  not specified  not specified  \n",
       "56093  not specified  not specified  \n",
       "56094  not specified  not specified  \n",
       "56095  not specified  not specified  \n",
       "56096  not specified  not specified  \n",
       "56097  not specified  not specified  "
      ]
     },
     "execution_count": 27,
     "metadata": {},
     "output_type": "execute_result"
    }
   ],
   "source": [
    "remove_by_metascore = df[df[\"Metascore\"] == \"not specified\"][\"GameID\"].values\n",
    "df[df[\"Metascore\"] == \"not specified\"]"
   ]
  },
  {
   "cell_type": "code",
   "execution_count": 28,
   "metadata": {},
   "outputs": [
    {
     "data": {
      "text/html": [
       "<div>\n",
       "<style scoped>\n",
       "    .dataframe tbody tr th:only-of-type {\n",
       "        vertical-align: middle;\n",
       "    }\n",
       "\n",
       "    .dataframe tbody tr th {\n",
       "        vertical-align: top;\n",
       "    }\n",
       "\n",
       "    .dataframe thead th {\n",
       "        text-align: right;\n",
       "    }\n",
       "</style>\n",
       "<table border=\"1\" class=\"dataframe\">\n",
       "  <thead>\n",
       "    <tr style=\"text-align: right;\">\n",
       "      <th></th>\n",
       "      <th>Userscore</th>\n",
       "      <th>GameID</th>\n",
       "      <th>UserID</th>\n",
       "      <th>Title</th>\n",
       "      <th>Year</th>\n",
       "      <th>Publisher</th>\n",
       "      <th>Genre</th>\n",
       "      <th>Platform</th>\n",
       "      <th>Metascore</th>\n",
       "      <th>Avg_Userscore</th>\n",
       "      <th>No_Players</th>\n",
       "    </tr>\n",
       "  </thead>\n",
       "  <tbody>\n",
       "    <tr>\n",
       "      <td>40432</td>\n",
       "      <td>9</td>\n",
       "      <td>2240</td>\n",
       "      <td>140</td>\n",
       "      <td>Madden NFL 2005</td>\n",
       "      <td>2004</td>\n",
       "      <td>EATiburon</td>\n",
       "      <td>Sports;Traditional;Football;Sim</td>\n",
       "      <td>GameCube</td>\n",
       "      <td>90</td>\n",
       "      <td>tbd</td>\n",
       "      <td>1-4</td>\n",
       "    </tr>\n",
       "    <tr>\n",
       "      <td>56092</td>\n",
       "      <td>10</td>\n",
       "      <td>1126</td>\n",
       "      <td>7739</td>\n",
       "      <td>Error 503 Service Unavailable</td>\n",
       "      <td>not specified</td>\n",
       "      <td>not specified</td>\n",
       "      <td>no genre</td>\n",
       "      <td>not specified</td>\n",
       "      <td>not specified</td>\n",
       "      <td>not specified</td>\n",
       "      <td>not specified</td>\n",
       "    </tr>\n",
       "    <tr>\n",
       "      <td>56093</td>\n",
       "      <td>9</td>\n",
       "      <td>1126</td>\n",
       "      <td>1202</td>\n",
       "      <td>Error 503 Service Unavailable</td>\n",
       "      <td>not specified</td>\n",
       "      <td>not specified</td>\n",
       "      <td>no genre</td>\n",
       "      <td>not specified</td>\n",
       "      <td>not specified</td>\n",
       "      <td>not specified</td>\n",
       "      <td>not specified</td>\n",
       "    </tr>\n",
       "    <tr>\n",
       "      <td>56094</td>\n",
       "      <td>10</td>\n",
       "      <td>1126</td>\n",
       "      <td>4040</td>\n",
       "      <td>Error 503 Service Unavailable</td>\n",
       "      <td>not specified</td>\n",
       "      <td>not specified</td>\n",
       "      <td>no genre</td>\n",
       "      <td>not specified</td>\n",
       "      <td>not specified</td>\n",
       "      <td>not specified</td>\n",
       "      <td>not specified</td>\n",
       "    </tr>\n",
       "    <tr>\n",
       "      <td>56095</td>\n",
       "      <td>5</td>\n",
       "      <td>1126</td>\n",
       "      <td>2215</td>\n",
       "      <td>Error 503 Service Unavailable</td>\n",
       "      <td>not specified</td>\n",
       "      <td>not specified</td>\n",
       "      <td>no genre</td>\n",
       "      <td>not specified</td>\n",
       "      <td>not specified</td>\n",
       "      <td>not specified</td>\n",
       "      <td>not specified</td>\n",
       "    </tr>\n",
       "    <tr>\n",
       "      <td>...</td>\n",
       "      <td>...</td>\n",
       "      <td>...</td>\n",
       "      <td>...</td>\n",
       "      <td>...</td>\n",
       "      <td>...</td>\n",
       "      <td>...</td>\n",
       "      <td>...</td>\n",
       "      <td>...</td>\n",
       "      <td>...</td>\n",
       "      <td>...</td>\n",
       "      <td>...</td>\n",
       "    </tr>\n",
       "    <tr>\n",
       "      <td>100972</td>\n",
       "      <td>9</td>\n",
       "      <td>2571</td>\n",
       "      <td>1609</td>\n",
       "      <td>NASCAR Thunder 2002</td>\n",
       "      <td>2001</td>\n",
       "      <td>EATiburon</td>\n",
       "      <td>Driving;Racing;Stock Car</td>\n",
       "      <td>Xbox</td>\n",
       "      <td>82</td>\n",
       "      <td>tbd</td>\n",
       "      <td>1-4</td>\n",
       "    </tr>\n",
       "    <tr>\n",
       "      <td>103258</td>\n",
       "      <td>10</td>\n",
       "      <td>2687</td>\n",
       "      <td>6194</td>\n",
       "      <td>NCAA March Madness 2004</td>\n",
       "      <td>2003</td>\n",
       "      <td>EASports</td>\n",
       "      <td>Sports;Traditional;Basketball;Sim</td>\n",
       "      <td>Xbox</td>\n",
       "      <td>81</td>\n",
       "      <td>tbd</td>\n",
       "      <td>1-4</td>\n",
       "    </tr>\n",
       "    <tr>\n",
       "      <td>107600</td>\n",
       "      <td>8</td>\n",
       "      <td>4405</td>\n",
       "      <td>372</td>\n",
       "      <td>Tiger Woods PGA Tour 07</td>\n",
       "      <td>2006</td>\n",
       "      <td>EARedwoodShores</td>\n",
       "      <td>Sports;Traditional;Individual;Golf;Sim;Sim</td>\n",
       "      <td>PlayStation3</td>\n",
       "      <td>81</td>\n",
       "      <td>tbd</td>\n",
       "      <td>Up to 4</td>\n",
       "    </tr>\n",
       "    <tr>\n",
       "      <td>110041</td>\n",
       "      <td>8</td>\n",
       "      <td>2127</td>\n",
       "      <td>7151</td>\n",
       "      <td>Lumines Remastered</td>\n",
       "      <td>2018</td>\n",
       "      <td>EnhanceGames</td>\n",
       "      <td>Puzzle;Matching</td>\n",
       "      <td>XboxOne</td>\n",
       "      <td>81</td>\n",
       "      <td>tbd</td>\n",
       "      <td>No Online Multiplayer</td>\n",
       "    </tr>\n",
       "    <tr>\n",
       "      <td>110315</td>\n",
       "      <td>8</td>\n",
       "      <td>1981</td>\n",
       "      <td>6203</td>\n",
       "      <td>Knockout Kings 2001</td>\n",
       "      <td>2001</td>\n",
       "      <td>BlackOpsEntertainment</td>\n",
       "      <td>Sports;Traditional;Boxing</td>\n",
       "      <td>PlayStation2</td>\n",
       "      <td>81</td>\n",
       "      <td>tbd</td>\n",
       "      <td>1-2</td>\n",
       "    </tr>\n",
       "  </tbody>\n",
       "</table>\n",
       "<p>62 rows × 11 columns</p>\n",
       "</div>"
      ],
      "text/plain": [
       "        Userscore  GameID  UserID                          Title  \\\n",
       "40432           9    2240     140                Madden NFL 2005   \n",
       "56092          10    1126    7739  Error 503 Service Unavailable   \n",
       "56093           9    1126    1202  Error 503 Service Unavailable   \n",
       "56094          10    1126    4040  Error 503 Service Unavailable   \n",
       "56095           5    1126    2215  Error 503 Service Unavailable   \n",
       "...           ...     ...     ...                            ...   \n",
       "100972          9    2571    1609            NASCAR Thunder 2002   \n",
       "103258         10    2687    6194        NCAA March Madness 2004   \n",
       "107600          8    4405     372        Tiger Woods PGA Tour 07   \n",
       "110041          8    2127    7151             Lumines Remastered   \n",
       "110315          8    1981    6203            Knockout Kings 2001   \n",
       "\n",
       "                 Year              Publisher  \\\n",
       "40432            2004              EATiburon   \n",
       "56092   not specified          not specified   \n",
       "56093   not specified          not specified   \n",
       "56094   not specified          not specified   \n",
       "56095   not specified          not specified   \n",
       "...               ...                    ...   \n",
       "100972           2001              EATiburon   \n",
       "103258           2003               EASports   \n",
       "107600           2006        EARedwoodShores   \n",
       "110041           2018           EnhanceGames   \n",
       "110315           2001  BlackOpsEntertainment   \n",
       "\n",
       "                                             Genre       Platform  \\\n",
       "40432              Sports;Traditional;Football;Sim       GameCube   \n",
       "56092                                     no genre  not specified   \n",
       "56093                                     no genre  not specified   \n",
       "56094                                     no genre  not specified   \n",
       "56095                                     no genre  not specified   \n",
       "...                                            ...            ...   \n",
       "100972                    Driving;Racing;Stock Car           Xbox   \n",
       "103258           Sports;Traditional;Basketball;Sim           Xbox   \n",
       "107600  Sports;Traditional;Individual;Golf;Sim;Sim   PlayStation3   \n",
       "110041                             Puzzle;Matching        XboxOne   \n",
       "110315                   Sports;Traditional;Boxing   PlayStation2   \n",
       "\n",
       "            Metascore  Avg_Userscore             No_Players  \n",
       "40432              90            tbd                   1-4   \n",
       "56092   not specified  not specified          not specified  \n",
       "56093   not specified  not specified          not specified  \n",
       "56094   not specified  not specified          not specified  \n",
       "56095   not specified  not specified          not specified  \n",
       "...               ...            ...                    ...  \n",
       "100972             82            tbd                   1-4   \n",
       "103258             81            tbd                   1-4   \n",
       "107600             81            tbd               Up to 4   \n",
       "110041             81            tbd  No Online Multiplayer  \n",
       "110315             81            tbd                   1-2   \n",
       "\n",
       "[62 rows x 11 columns]"
      ]
     },
     "execution_count": 28,
     "metadata": {},
     "output_type": "execute_result"
    }
   ],
   "source": [
    "remove_by_avg_score = df[df[\"Avg_Userscore\"].isin([\"tbd\", \"not specified\"])][\n",
    "    \"GameID\"\n",
    "].values\n",
    "df[df[\"Avg_Userscore\"].isin([\"tbd\", \"not specified\"])]"
   ]
  },
  {
   "cell_type": "code",
   "execution_count": 29,
   "metadata": {},
   "outputs": [],
   "source": [
    "df = df.loc[\n",
    "    ~df[\"GameID\"].isin(np.append(remove_by_metascore, remove_by_avg_score)), :\n",
    "].reset_index(drop=True)"
   ]
  },
  {
   "cell_type": "code",
   "execution_count": 30,
   "metadata": {},
   "outputs": [],
   "source": [
    "df[\"Metascore\"] = df[\"Metascore\"].astype(\"int32\")\n",
    "df[\"Avg_Userscore\"] = df[\"Avg_Userscore\"].astype(\"float64\")"
   ]
  },
  {
   "cell_type": "code",
   "execution_count": 31,
   "metadata": {},
   "outputs": [
    {
     "data": {
      "text/html": [
       "<div>\n",
       "<style scoped>\n",
       "    .dataframe tbody tr th:only-of-type {\n",
       "        vertical-align: middle;\n",
       "    }\n",
       "\n",
       "    .dataframe tbody tr th {\n",
       "        vertical-align: top;\n",
       "    }\n",
       "\n",
       "    .dataframe thead th {\n",
       "        text-align: right;\n",
       "    }\n",
       "</style>\n",
       "<table border=\"1\" class=\"dataframe\">\n",
       "  <thead>\n",
       "    <tr style=\"text-align: right;\">\n",
       "      <th></th>\n",
       "      <th>Userscore</th>\n",
       "      <th>GameID</th>\n",
       "      <th>UserID</th>\n",
       "      <th>Metascore</th>\n",
       "      <th>Avg_Userscore</th>\n",
       "    </tr>\n",
       "  </thead>\n",
       "  <tbody>\n",
       "    <tr>\n",
       "      <td>count</td>\n",
       "      <td>112371.000000</td>\n",
       "      <td>112371.000000</td>\n",
       "      <td>112371.000000</td>\n",
       "      <td>112371.000000</td>\n",
       "      <td>112371.000000</td>\n",
       "    </tr>\n",
       "    <tr>\n",
       "      <td>mean</td>\n",
       "      <td>7.911943</td>\n",
       "      <td>2310.923761</td>\n",
       "      <td>5129.801034</td>\n",
       "      <td>87.958931</td>\n",
       "      <td>7.971631</td>\n",
       "    </tr>\n",
       "    <tr>\n",
       "      <td>std</td>\n",
       "      <td>2.579331</td>\n",
       "      <td>1481.949997</td>\n",
       "      <td>2969.246196</td>\n",
       "      <td>4.724206</td>\n",
       "      <td>1.092781</td>\n",
       "    </tr>\n",
       "    <tr>\n",
       "      <td>min</td>\n",
       "      <td>0.000000</td>\n",
       "      <td>0.000000</td>\n",
       "      <td>0.000000</td>\n",
       "      <td>80.000000</td>\n",
       "      <td>1.600000</td>\n",
       "    </tr>\n",
       "    <tr>\n",
       "      <td>25%</td>\n",
       "      <td>7.000000</td>\n",
       "      <td>960.000000</td>\n",
       "      <td>2549.000000</td>\n",
       "      <td>84.000000</td>\n",
       "      <td>7.600000</td>\n",
       "    </tr>\n",
       "    <tr>\n",
       "      <td>50%</td>\n",
       "      <td>9.000000</td>\n",
       "      <td>2097.000000</td>\n",
       "      <td>5141.000000</td>\n",
       "      <td>88.000000</td>\n",
       "      <td>8.300000</td>\n",
       "    </tr>\n",
       "    <tr>\n",
       "      <td>75%</td>\n",
       "      <td>10.000000</td>\n",
       "      <td>3730.000000</td>\n",
       "      <td>7702.000000</td>\n",
       "      <td>92.000000</td>\n",
       "      <td>8.700000</td>\n",
       "    </tr>\n",
       "    <tr>\n",
       "      <td>max</td>\n",
       "      <td>10.000000</td>\n",
       "      <td>4989.000000</td>\n",
       "      <td>10230.000000</td>\n",
       "      <td>99.000000</td>\n",
       "      <td>9.300000</td>\n",
       "    </tr>\n",
       "  </tbody>\n",
       "</table>\n",
       "</div>"
      ],
      "text/plain": [
       "           Userscore         GameID         UserID      Metascore  \\\n",
       "count  112371.000000  112371.000000  112371.000000  112371.000000   \n",
       "mean        7.911943    2310.923761    5129.801034      87.958931   \n",
       "std         2.579331    1481.949997    2969.246196       4.724206   \n",
       "min         0.000000       0.000000       0.000000      80.000000   \n",
       "25%         7.000000     960.000000    2549.000000      84.000000   \n",
       "50%         9.000000    2097.000000    5141.000000      88.000000   \n",
       "75%        10.000000    3730.000000    7702.000000      92.000000   \n",
       "max        10.000000    4989.000000   10230.000000      99.000000   \n",
       "\n",
       "       Avg_Userscore  \n",
       "count  112371.000000  \n",
       "mean        7.971631  \n",
       "std         1.092781  \n",
       "min         1.600000  \n",
       "25%         7.600000  \n",
       "50%         8.300000  \n",
       "75%         8.700000  \n",
       "max         9.300000  "
      ]
     },
     "execution_count": 31,
     "metadata": {},
     "output_type": "execute_result"
    }
   ],
   "source": [
    "df.describe()"
   ]
  },
  {
   "cell_type": "code",
   "execution_count": 32,
   "metadata": {},
   "outputs": [
    {
     "name": "stdout",
     "output_type": "stream",
     "text": [
      "<class 'pandas.core.frame.DataFrame'>\n",
      "RangeIndex: 112371 entries, 0 to 112370\n",
      "Data columns (total 11 columns):\n",
      "Userscore        112371 non-null int64\n",
      "GameID           112371 non-null int64\n",
      "UserID           112371 non-null int64\n",
      "Title            112371 non-null object\n",
      "Year             112371 non-null object\n",
      "Publisher        112371 non-null object\n",
      "Genre            112371 non-null object\n",
      "Platform         112371 non-null object\n",
      "Metascore        112371 non-null int32\n",
      "Avg_Userscore    112371 non-null float64\n",
      "No_Players       112317 non-null object\n",
      "dtypes: float64(1), int32(1), int64(3), object(6)\n",
      "memory usage: 9.0+ MB\n"
     ]
    }
   ],
   "source": [
    "df.info()"
   ]
  },
  {
   "cell_type": "code",
   "execution_count": 33,
   "metadata": {},
   "outputs": [],
   "source": [
    "target_col = \"Userscore\""
   ]
  },
  {
   "cell_type": "code",
   "execution_count": 34,
   "metadata": {},
   "outputs": [
    {
     "data": {
      "text/plain": [
       "<matplotlib.axes._subplots.AxesSubplot at 0x7ff539518400>"
      ]
     },
     "execution_count": 34,
     "metadata": {},
     "output_type": "execute_result"
    },
    {
     "data": {
      "image/png": "[encoded data removed]",
      "text/plain": [
       "<Figure size 432x288 with 1 Axes>"
      ]
     },
     "metadata": {
      "needs_background": "light"
     },
     "output_type": "display_data"
    }
   ],
   "source": [
    "sns.distplot(df[target_col], bins=10)"
   ]
  },
  {
   "cell_type": "code",
   "execution_count": 35,
   "metadata": {},
   "outputs": [
    {
     "data": {
      "text/plain": [
       "<matplotlib.axes._subplots.AxesSubplot at 0x7ff5395627f0>"
      ]
     },
     "execution_count": 35,
     "metadata": {},
     "output_type": "execute_result"
    },
    {
     "data": {
      "image/png": "[encoded data removed]",
      "text/plain": [
       "<Figure size 432x288 with 1 Axes>"
      ]
     },
     "metadata": {
      "needs_background": "light"
     },
     "output_type": "display_data"
    }
   ],
   "source": [
    "sns.distplot(df[\"Metascore\"], bins=20)"
   ]
  },
  {
   "cell_type": "code",
   "execution_count": 36,
   "metadata": {},
   "outputs": [
    {
     "data": {
      "text/plain": [
       "<matplotlib.axes._subplots.AxesSubplot at 0x7ff5395a4588>"
      ]
     },
     "execution_count": 36,
     "metadata": {},
     "output_type": "execute_result"
    },
    {
     "data": {
      "image/png": "[encoded data removed]",
      "text/plain": [
       "<Figure size 432x288 with 1 Axes>"
      ]
     },
     "metadata": {
      "needs_background": "light"
     },
     "output_type": "display_data"
    }
   ],
   "source": [
    "sns.distplot(df[\"Avg_Userscore\"], bins=10)"
   ]
  },
  {
   "cell_type": "markdown",
   "metadata": {},
   "source": [
    "## Split into train, validation and test datasets"
   ]
  },
  {
   "cell_type": "code",
   "execution_count": 37,
   "metadata": {},
   "outputs": [],
   "source": [
    "train_df, val_df, test_df = split_df(df, 0.2)"
   ]
  },
  {
   "cell_type": "code",
   "execution_count": 38,
   "metadata": {},
   "outputs": [
    {
     "data": {
      "text/plain": [
       "[(89896, 11), (11237, 11), (11238, 11)]"
      ]
     },
     "execution_count": 38,
     "metadata": {},
     "output_type": "execute_result"
    }
   ],
   "source": [
    "[x.shape for x in (train_df, val_df, test_df)]"
   ]
  },
  {
   "cell_type": "markdown",
   "metadata": {},
   "source": [
    "## Processing"
   ]
  },
  {
   "cell_type": "code",
   "execution_count": 39,
   "metadata": {},
   "outputs": [],
   "source": [
    "scaler = MinMaxScaler(feature_range=(0, 1))"
   ]
  },
  {
   "cell_type": "code",
   "execution_count": 40,
   "metadata": {},
   "outputs": [
    {
     "data": {
      "text/plain": [
       "MinMaxScaler(copy=True, feature_range=(0, 1))"
      ]
     },
     "execution_count": 40,
     "metadata": {},
     "output_type": "execute_result"
    }
   ],
   "source": [
    "scaler.fit(train_df[[target_col]])"
   ]
  },
  {
   "cell_type": "code",
   "execution_count": 41,
   "metadata": {},
   "outputs": [
    {
     "name": "stderr",
     "output_type": "stream",
     "text": [
      "/home/martynas/ml/.venv/lib/python3.6/site-packages/ipykernel_launcher.py:1: SettingWithCopyWarning: \n",
      "A value is trying to be set on a copy of a slice from a DataFrame.\n",
      "Try using .loc[row_indexer,col_indexer] = value instead\n",
      "\n",
      "See the caveats in the documentation: http://pandas.pydata.org/pandas-docs/stable/user_guide/indexing.html#returning-a-view-versus-a-copy\n",
      "  \"\"\"Entry point for launching an IPython kernel.\n"
     ]
    }
   ],
   "source": [
    "train_df[target_col] = scaler.transform(train_df[[target_col]])"
   ]
  },
  {
   "cell_type": "code",
   "execution_count": 42,
   "metadata": {},
   "outputs": [],
   "source": [
    "val_df[target_col] = scaler.transform(val_df[[target_col]])"
   ]
  },
  {
   "cell_type": "code",
   "execution_count": 43,
   "metadata": {},
   "outputs": [
    {
     "data": {
      "text/html": [
       "<div>\n",
       "<style scoped>\n",
       "    .dataframe tbody tr th:only-of-type {\n",
       "        vertical-align: middle;\n",
       "    }\n",
       "\n",
       "    .dataframe tbody tr th {\n",
       "        vertical-align: top;\n",
       "    }\n",
       "\n",
       "    .dataframe thead th {\n",
       "        text-align: right;\n",
       "    }\n",
       "</style>\n",
       "<table border=\"1\" class=\"dataframe\">\n",
       "  <thead>\n",
       "    <tr style=\"text-align: right;\">\n",
       "      <th></th>\n",
       "      <th>Userscore</th>\n",
       "      <th>GameID</th>\n",
       "      <th>UserID</th>\n",
       "      <th>Title</th>\n",
       "      <th>Year</th>\n",
       "      <th>Publisher</th>\n",
       "      <th>Genre</th>\n",
       "      <th>Platform</th>\n",
       "      <th>Metascore</th>\n",
       "      <th>Avg_Userscore</th>\n",
       "      <th>No_Players</th>\n",
       "    </tr>\n",
       "  </thead>\n",
       "  <tbody>\n",
       "    <tr>\n",
       "      <td>0</td>\n",
       "      <td>1.0</td>\n",
       "      <td>1969</td>\n",
       "      <td>7571</td>\n",
       "      <td>Kingdoms of Amalur: Reckoning</td>\n",
       "      <td>2012</td>\n",
       "      <td>BigHugeGames</td>\n",
       "      <td>Role-Playing;PC-style RPG;Action RPG</td>\n",
       "      <td>PlayStation3</td>\n",
       "      <td>81</td>\n",
       "      <td>7.7</td>\n",
       "      <td>No Online Multiplayer</td>\n",
       "    </tr>\n",
       "    <tr>\n",
       "      <td>1</td>\n",
       "      <td>0.8</td>\n",
       "      <td>2437</td>\n",
       "      <td>6679</td>\n",
       "      <td>Metroid: Samus Returns</td>\n",
       "      <td>2017</td>\n",
       "      <td>MercurySteam</td>\n",
       "      <td>Action Adventure;Open-World</td>\n",
       "      <td>3DS</td>\n",
       "      <td>85</td>\n",
       "      <td>8.9</td>\n",
       "      <td>No Online Multiplayer</td>\n",
       "    </tr>\n",
       "    <tr>\n",
       "      <td>2</td>\n",
       "      <td>0.8</td>\n",
       "      <td>718</td>\n",
       "      <td>4650</td>\n",
       "      <td>DOOM</td>\n",
       "      <td>2016</td>\n",
       "      <td>idSoftware</td>\n",
       "      <td>Sci-Fi;Action;Shooter;First-Person;Third-Perso...</td>\n",
       "      <td>XboxOne</td>\n",
       "      <td>87</td>\n",
       "      <td>8.4</td>\n",
       "      <td>Up to 12</td>\n",
       "    </tr>\n",
       "    <tr>\n",
       "      <td>3</td>\n",
       "      <td>1.0</td>\n",
       "      <td>1714</td>\n",
       "      <td>2123</td>\n",
       "      <td>Halo 4</td>\n",
       "      <td>2012</td>\n",
       "      <td>343Industries</td>\n",
       "      <td>Shooter;Sci-Fi;Sci-Fi;Action;Shooter;First-Per...</td>\n",
       "      <td>Xbox360</td>\n",
       "      <td>87</td>\n",
       "      <td>7.0</td>\n",
       "      <td>Up to 16</td>\n",
       "    </tr>\n",
       "    <tr>\n",
       "      <td>4</td>\n",
       "      <td>1.0</td>\n",
       "      <td>1379</td>\n",
       "      <td>9287</td>\n",
       "      <td>Final Fantasy VII</td>\n",
       "      <td>1997</td>\n",
       "      <td>SquareSoft</td>\n",
       "      <td>Role-Playing;Console-style RPG</td>\n",
       "      <td>PlayStation</td>\n",
       "      <td>92</td>\n",
       "      <td>9.2</td>\n",
       "      <td>1 Player</td>\n",
       "    </tr>\n",
       "  </tbody>\n",
       "</table>\n",
       "</div>"
      ],
      "text/plain": [
       "   Userscore  GameID  UserID                          Title  Year  \\\n",
       "0        1.0    1969    7571  Kingdoms of Amalur: Reckoning  2012   \n",
       "1        0.8    2437    6679         Metroid: Samus Returns  2017   \n",
       "2        0.8     718    4650                           DOOM  2016   \n",
       "3        1.0    1714    2123                         Halo 4  2012   \n",
       "4        1.0    1379    9287              Final Fantasy VII  1997   \n",
       "\n",
       "       Publisher                                              Genre  \\\n",
       "0   BigHugeGames               Role-Playing;PC-style RPG;Action RPG   \n",
       "1   MercurySteam                        Action Adventure;Open-World   \n",
       "2     idSoftware  Sci-Fi;Action;Shooter;First-Person;Third-Perso...   \n",
       "3  343Industries  Shooter;Sci-Fi;Sci-Fi;Action;Shooter;First-Per...   \n",
       "4     SquareSoft                     Role-Playing;Console-style RPG   \n",
       "\n",
       "       Platform  Metascore  Avg_Userscore             No_Players  \n",
       "0  PlayStation3         81            7.7  No Online Multiplayer  \n",
       "1           3DS         85            8.9  No Online Multiplayer  \n",
       "2       XboxOne         87            8.4              Up to 12   \n",
       "3       Xbox360         87            7.0              Up to 16   \n",
       "4   PlayStation         92            9.2               1 Player  "
      ]
     },
     "execution_count": 43,
     "metadata": {},
     "output_type": "execute_result"
    }
   ],
   "source": [
    "train_df.head()"
   ]
  },
  {
   "cell_type": "code",
   "execution_count": 44,
   "metadata": {},
   "outputs": [
    {
     "data": {
      "text/plain": [
       "array([1. , 0.8, 0.8, 1. , 1. , 0.5, 1. , 1. , 0.7, 1. ])"
      ]
     },
     "execution_count": 44,
     "metadata": {},
     "output_type": "execute_result"
    }
   ],
   "source": [
    "train_df[target_col][:10].values"
   ]
  },
  {
   "cell_type": "code",
   "execution_count": 45,
   "metadata": {},
   "outputs": [
    {
     "data": {
      "text/plain": [
       "array([10.,  8.,  8., 10., 10.,  5., 10., 10.,  7., 10.])"
      ]
     },
     "execution_count": 45,
     "metadata": {},
     "output_type": "execute_result"
    }
   ],
   "source": [
    "scaler.inverse_transform(train_df[[target_col]][:10]).flatten()"
   ]
  },
  {
   "cell_type": "code",
   "execution_count": 46,
   "metadata": {},
   "outputs": [],
   "source": [
    "BATCH_SIZE = 512\n",
    "AUTOTUNE = tf.data.experimental.AUTOTUNE"
   ]
  },
  {
   "cell_type": "code",
   "execution_count": 47,
   "metadata": {},
   "outputs": [
    {
     "data": {
      "text/plain": [
       "(10230, 10230, 4989, 4989)"
      ]
     },
     "execution_count": 47,
     "metadata": {},
     "output_type": "execute_result"
    }
   ],
   "source": [
    "train_df[\"UserID\"].max(), val_df[\"UserID\"].max(), train_df[\"GameID\"].max(), val_df[\n",
    "    \"GameID\"\n",
    "].max()"
   ]
  },
  {
   "cell_type": "code",
   "execution_count": 48,
   "metadata": {},
   "outputs": [],
   "source": [
    "n_users = 11000\n",
    "n_games = 5000"
   ]
  },
  {
   "cell_type": "code",
   "execution_count": 49,
   "metadata": {},
   "outputs": [],
   "source": [
    "train_dataset = (\n",
    "    tf.data.Dataset.zip(\n",
    "        (\n",
    "            tf.data.Dataset.from_tensor_slices(\n",
    "                (train_df[\"UserID\"].values, train_df[\"GameID\"].values)\n",
    "            ),\n",
    "            tf.data.Dataset.from_tensor_slices(train_df[target_col].values),\n",
    "        )\n",
    "    )\n",
    "    .cache()\n",
    "    .repeat()\n",
    "    .shuffle(len(train_df))\n",
    "    .batch(BATCH_SIZE)\n",
    "    .prefetch(AUTOTUNE)\n",
    ")"
   ]
  },
  {
   "cell_type": "code",
   "execution_count": 50,
   "metadata": {},
   "outputs": [],
   "source": [
    "val_dataset = (\n",
    "    tf.data.Dataset.zip(\n",
    "        (\n",
    "            tf.data.Dataset.from_tensor_slices(\n",
    "                (val_df[\"UserID\"].values, val_df[\"GameID\"].values)\n",
    "            ),\n",
    "            tf.data.Dataset.from_tensor_slices(val_df[target_col].values),\n",
    "        )\n",
    "    )\n",
    "    .batch(BATCH_SIZE)\n",
    "    .prefetch(AUTOTUNE)\n",
    ")"
   ]
  },
  {
   "cell_type": "code",
   "execution_count": 51,
   "metadata": {},
   "outputs": [],
   "source": [
    "class EmbeddingLayer:\n",
    "    def __init__(self, input_dim: int, embedding_dim: int):\n",
    "        self.input_dim = input_dim\n",
    "        self.embedding_dim = embedding_dim\n",
    "\n",
    "    def __call__(self, layer: keras.layers.Layer) -> keras.layers.Layer:\n",
    "        layer = keras.layers.Embedding(\n",
    "            self.input_dim, self.embedding_dim, input_length=(1,)\n",
    "        )(layer)\n",
    "        return keras.layers.Flatten()(layer)"
   ]
  },
  {
   "cell_type": "code",
   "execution_count": 52,
   "metadata": {},
   "outputs": [],
   "source": [
    "def make_concat_model(\n",
    "    user_dim,\n",
    "    item_dim,\n",
    "    embedding_dim,\n",
    "    layer_size=256,\n",
    "    dropout_rate=0.0,\n",
    "    regularization=None,\n",
    "):\n",
    "    user_input = keras.layers.Input(shape=(1,))\n",
    "    user_embedding = EmbeddingLayer(user_dim, embedding_dim)(user_input)\n",
    "    user_bias = EmbeddingLayer(user_dim, 1)(user_input)\n",
    "\n",
    "    item_input = keras.layers.Input(shape=(1,))\n",
    "    item_embedding = EmbeddingLayer(item_dim, embedding_dim)(item_input)\n",
    "    item_bias = EmbeddingLayer(item_dim, 1)(item_input)\n",
    "\n",
    "    x = keras.layers.Concatenate()(\n",
    "        [user_embedding, user_bias, item_embedding, item_bias]\n",
    "    )\n",
    "    x = keras.layers.BatchNormalization()(x)\n",
    "    x = keras.layers.Dropout(dropout_rate)(x)\n",
    "    x = keras.layers.Dense(\n",
    "        layer_size,\n",
    "        kernel_initializer=keras.initializers.he_uniform(),\n",
    "        kernel_regularizer=regularization and keras.regularizers.l1_l2(*regularization),\n",
    "    )(x)\n",
    "    x = keras.layers.LeakyReLU()(x)\n",
    "    x = keras.layers.BatchNormalization()(x)\n",
    "    x = keras.layers.Dropout(dropout_rate)(x)\n",
    "    x = keras.layers.Dense(1)(x)\n",
    "    outputs = keras.layers.Activation(keras.activations.sigmoid)(x)\n",
    "\n",
    "    model = keras.Model(inputs=[user_input, item_input], outputs=outputs)\n",
    "    return model"
   ]
  },
  {
   "cell_type": "code",
   "execution_count": 53,
   "metadata": {},
   "outputs": [],
   "source": [
    "concat_model = make_concat_model(\n",
    "    n_users, n_games, 128, layer_size=512, dropout_rate=0.3, regularization=(1e-8, 1e-4)\n",
    ")"
   ]
  },
  {
   "cell_type": "code",
   "execution_count": 54,
   "metadata": {},
   "outputs": [],
   "source": [
    "concat_model.compile(\n",
    "    optimizer=keras.optimizers.Adam(3e-5),\n",
    "    loss=keras.losses.mse,\n",
    "    metrics=[keras.metrics.mae],\n",
    ")"
   ]
  },
  {
   "cell_type": "code",
   "execution_count": 55,
   "metadata": {},
   "outputs": [],
   "source": [
    "PATIENCE = 5\n",
    "\n",
    "train_data_steps = len(train_df) // BATCH_SIZE\n",
    "concat_model_history = concat_model.fit(\n",
    "    train_dataset,\n",
    "    steps_per_epoch=train_data_steps,\n",
    "    validation_data=val_dataset,\n",
    "    epochs=100,\n",
    "    callbacks=[\n",
    "        tf.keras.callbacks.ReduceLROnPlateau(factor=0.3, patience=PATIENCE),\n",
    "        tf.keras.callbacks.EarlyStopping(\n",
    "            patience=PATIENCE * 2, restore_best_weights=True\n",
    "        ),\n",
    "    ],\n",
    "    verbose=0,\n",
    ")"
   ]
  },
  {
   "cell_type": "code",
   "execution_count": 102,
   "metadata": {},
   "outputs": [
    {
     "data": {
      "text/html": [
       "<div>\n",
       "<style scoped>\n",
       "    .dataframe tbody tr th:only-of-type {\n",
       "        vertical-align: middle;\n",
       "    }\n",
       "\n",
       "    .dataframe tbody tr th {\n",
       "        vertical-align: top;\n",
       "    }\n",
       "\n",
       "    .dataframe thead th {\n",
       "        text-align: right;\n",
       "    }\n",
       "</style>\n",
       "<table border=\"1\" class=\"dataframe\">\n",
       "  <thead>\n",
       "    <tr style=\"text-align: right;\">\n",
       "      <th></th>\n",
       "      <th>loss</th>\n",
       "      <th>mean_absolute_error</th>\n",
       "      <th>val_loss</th>\n",
       "      <th>val_mean_absolute_error</th>\n",
       "      <th>lr</th>\n",
       "    </tr>\n",
       "  </thead>\n",
       "  <tbody>\n",
       "    <tr>\n",
       "      <td>95</td>\n",
       "      <td>0.061021</td>\n",
       "      <td>0.130053</td>\n",
       "      <td>0.077430</td>\n",
       "      <td>0.154214</td>\n",
       "      <td>0.00003</td>\n",
       "    </tr>\n",
       "    <tr>\n",
       "      <td>96</td>\n",
       "      <td>0.060507</td>\n",
       "      <td>0.130080</td>\n",
       "      <td>0.077101</td>\n",
       "      <td>0.154084</td>\n",
       "      <td>0.00003</td>\n",
       "    </tr>\n",
       "    <tr>\n",
       "      <td>97</td>\n",
       "      <td>0.060382</td>\n",
       "      <td>0.130270</td>\n",
       "      <td>0.076631</td>\n",
       "      <td>0.154096</td>\n",
       "      <td>0.00003</td>\n",
       "    </tr>\n",
       "    <tr>\n",
       "      <td>98</td>\n",
       "      <td>0.059071</td>\n",
       "      <td>0.128749</td>\n",
       "      <td>0.076066</td>\n",
       "      <td>0.153966</td>\n",
       "      <td>0.00003</td>\n",
       "    </tr>\n",
       "    <tr>\n",
       "      <td>99</td>\n",
       "      <td>0.058970</td>\n",
       "      <td>0.129494</td>\n",
       "      <td>0.075852</td>\n",
       "      <td>0.154161</td>\n",
       "      <td>0.00003</td>\n",
       "    </tr>\n",
       "  </tbody>\n",
       "</table>\n",
       "</div>"
      ],
      "text/plain": [
       "        loss  mean_absolute_error  val_loss  val_mean_absolute_error       lr\n",
       "95  0.061021             0.130053  0.077430                 0.154214  0.00003\n",
       "96  0.060507             0.130080  0.077101                 0.154084  0.00003\n",
       "97  0.060382             0.130270  0.076631                 0.154096  0.00003\n",
       "98  0.059071             0.128749  0.076066                 0.153966  0.00003\n",
       "99  0.058970             0.129494  0.075852                 0.154161  0.00003"
      ]
     },
     "execution_count": 102,
     "metadata": {},
     "output_type": "execute_result"
    }
   ],
   "source": [
    "pd.DataFrame(concat_model_history.history).tail()"
   ]
  },
  {
   "cell_type": "code",
   "execution_count": 56,
   "metadata": {},
   "outputs": [
    {
     "data": {
      "text/plain": [
       "(None, None)"
      ]
     },
     "execution_count": 56,
     "metadata": {},
     "output_type": "execute_result"
    },
    {
     "data": {
      "image/png": "[encoded data removed]",
      "text/plain": [
       "<Figure size 432x288 with 1 Axes>"
      ]
     },
     "metadata": {
      "needs_background": "light"
     },
     "output_type": "display_data"
    },
    {
     "data": {
      "image/png": "[encoded data removed]",
      "text/plain": [
       "<Figure size 432x288 with 1 Axes>"
      ]
     },
     "metadata": {
      "needs_background": "light"
     },
     "output_type": "display_data"
    }
   ],
   "source": [
    "show_history(concat_model_history, \"loss\"), show_history(concat_model_history, \"err\")"
   ]
  },
  {
   "cell_type": "code",
   "execution_count": 57,
   "metadata": {},
   "outputs": [],
   "source": [
    "def make_dot_model(user_dim, item_dim, embedding_dim):\n",
    "    user_input = keras.layers.Input(shape=(1,))\n",
    "    user_embedding = EmbeddingLayer(user_dim, embedding_dim)(user_input)\n",
    "    user_bias = EmbeddingLayer(user_dim, 1)(user_input)\n",
    "\n",
    "    item_input = keras.layers.Input(shape=(1,))\n",
    "    item_embedding = EmbeddingLayer(item_dim, embedding_dim)(item_input)\n",
    "    item_bias = EmbeddingLayer(item_dim, 1)(item_input)\n",
    "\n",
    "    dot_product = keras.layers.Dot(axes=1)([user_embedding, item_embedding])\n",
    "    logits = keras.layers.Add()([dot_product, user_bias, item_bias])\n",
    "    outputs = keras.layers.Activation(keras.activations.sigmoid)(logits)\n",
    "\n",
    "    model = keras.Model(inputs=[user_input, item_input], outputs=outputs)\n",
    "    return model"
   ]
  },
  {
   "cell_type": "code",
   "execution_count": 58,
   "metadata": {},
   "outputs": [],
   "source": [
    "dot_model = make_dot_model(n_users, n_games, 128)"
   ]
  },
  {
   "cell_type": "code",
   "execution_count": 59,
   "metadata": {},
   "outputs": [],
   "source": [
    "dot_model.compile(\n",
    "    optimizer=keras.optimizers.Adam(3e-5),\n",
    "    loss=keras.losses.mse,\n",
    "    metrics=[keras.metrics.mae],\n",
    ")"
   ]
  },
  {
   "cell_type": "code",
   "execution_count": 60,
   "metadata": {},
   "outputs": [],
   "source": [
    "PATIENCE = 5\n",
    "\n",
    "train_data_steps = len(train_df) // BATCH_SIZE\n",
    "dot_model_history = dot_model.fit(\n",
    "    train_dataset,\n",
    "    steps_per_epoch=train_data_steps,\n",
    "    validation_data=val_dataset,\n",
    "    epochs=100,\n",
    "    callbacks=[\n",
    "        tf.keras.callbacks.ReduceLROnPlateau(factor=0.3, patience=PATIENCE),\n",
    "        tf.keras.callbacks.EarlyStopping(\n",
    "            patience=PATIENCE * 2, restore_best_weights=True\n",
    "        ),\n",
    "    ],\n",
    "    verbose=0,\n",
    ")"
   ]
  },
  {
   "cell_type": "code",
   "execution_count": 103,
   "metadata": {},
   "outputs": [
    {
     "data": {
      "text/html": [
       "<div>\n",
       "<style scoped>\n",
       "    .dataframe tbody tr th:only-of-type {\n",
       "        vertical-align: middle;\n",
       "    }\n",
       "\n",
       "    .dataframe tbody tr th {\n",
       "        vertical-align: top;\n",
       "    }\n",
       "\n",
       "    .dataframe thead th {\n",
       "        text-align: right;\n",
       "    }\n",
       "</style>\n",
       "<table border=\"1\" class=\"dataframe\">\n",
       "  <thead>\n",
       "    <tr style=\"text-align: right;\">\n",
       "      <th></th>\n",
       "      <th>loss</th>\n",
       "      <th>mean_absolute_error</th>\n",
       "      <th>val_loss</th>\n",
       "      <th>val_mean_absolute_error</th>\n",
       "      <th>lr</th>\n",
       "    </tr>\n",
       "  </thead>\n",
       "  <tbody>\n",
       "    <tr>\n",
       "      <td>95</td>\n",
       "      <td>0.070693</td>\n",
       "      <td>0.236284</td>\n",
       "      <td>0.095405</td>\n",
       "      <td>0.277220</td>\n",
       "      <td>0.00003</td>\n",
       "    </tr>\n",
       "    <tr>\n",
       "      <td>96</td>\n",
       "      <td>0.069802</td>\n",
       "      <td>0.234423</td>\n",
       "      <td>0.094743</td>\n",
       "      <td>0.275990</td>\n",
       "      <td>0.00003</td>\n",
       "    </tr>\n",
       "    <tr>\n",
       "      <td>97</td>\n",
       "      <td>0.068699</td>\n",
       "      <td>0.232417</td>\n",
       "      <td>0.094088</td>\n",
       "      <td>0.274762</td>\n",
       "      <td>0.00003</td>\n",
       "    </tr>\n",
       "    <tr>\n",
       "      <td>98</td>\n",
       "      <td>0.067962</td>\n",
       "      <td>0.230937</td>\n",
       "      <td>0.093429</td>\n",
       "      <td>0.273521</td>\n",
       "      <td>0.00003</td>\n",
       "    </tr>\n",
       "    <tr>\n",
       "      <td>99</td>\n",
       "      <td>0.067326</td>\n",
       "      <td>0.229460</td>\n",
       "      <td>0.092781</td>\n",
       "      <td>0.272290</td>\n",
       "      <td>0.00003</td>\n",
       "    </tr>\n",
       "  </tbody>\n",
       "</table>\n",
       "</div>"
      ],
      "text/plain": [
       "        loss  mean_absolute_error  val_loss  val_mean_absolute_error       lr\n",
       "95  0.070693             0.236284  0.095405                 0.277220  0.00003\n",
       "96  0.069802             0.234423  0.094743                 0.275990  0.00003\n",
       "97  0.068699             0.232417  0.094088                 0.274762  0.00003\n",
       "98  0.067962             0.230937  0.093429                 0.273521  0.00003\n",
       "99  0.067326             0.229460  0.092781                 0.272290  0.00003"
      ]
     },
     "execution_count": 103,
     "metadata": {},
     "output_type": "execute_result"
    }
   ],
   "source": [
    "pd.DataFrame(dot_model_history.history).tail()"
   ]
  },
  {
   "cell_type": "code",
   "execution_count": 61,
   "metadata": {},
   "outputs": [
    {
     "data": {
      "text/plain": [
       "(None, None)"
      ]
     },
     "execution_count": 61,
     "metadata": {},
     "output_type": "execute_result"
    },
    {
     "data": {
      "image/png": "[encoded data removed]",
      "text/plain": [
       "<Figure size 432x288 with 1 Axes>"
      ]
     },
     "metadata": {
      "needs_background": "light"
     },
     "output_type": "display_data"
    },
    {
     "data": {
      "image/png": "[encoded data removed]",
      "text/plain": [
       "<Figure size 432x288 with 1 Axes>"
      ]
     },
     "metadata": {
      "needs_background": "light"
     },
     "output_type": "display_data"
    }
   ],
   "source": [
    "show_history(dot_model_history, \"loss\"), show_history(dot_model_history, \"err\")"
   ]
  },
  {
   "cell_type": "code",
   "execution_count": 62,
   "metadata": {},
   "outputs": [],
   "source": [
    "class MeanModel(keras.Model):\n",
    "    def __init__(self, mean):\n",
    "        super().__init__()\n",
    "        self.mean = tf.constant(mean, dtype=tf.float32)\n",
    "\n",
    "    def call(self, inputs):\n",
    "        return tf.ones_like(inputs[0], dtype=tf.float32) * self.mean"
   ]
  },
  {
   "cell_type": "code",
   "execution_count": 63,
   "metadata": {},
   "outputs": [],
   "source": [
    "mean_model = MeanModel(train_df[target_col].mean())"
   ]
  },
  {
   "cell_type": "code",
   "execution_count": 64,
   "metadata": {},
   "outputs": [],
   "source": [
    "mean_model.compile(optimizer=keras.optimizers.Adam(3e-4), loss=keras.losses.mse)"
   ]
  },
  {
   "cell_type": "code",
   "execution_count": 65,
   "metadata": {},
   "outputs": [
    {
     "data": {
      "text/plain": [
       "array([[0.79109526],\n",
       "       [0.79109526],\n",
       "       [0.79109526],\n",
       "       ...,\n",
       "       [0.79109526],\n",
       "       [0.79109526],\n",
       "       [0.79109526]], dtype=float32)"
      ]
     },
     "execution_count": 65,
     "metadata": {},
     "output_type": "execute_result"
    }
   ],
   "source": [
    "mean_model.predict(val_dataset)"
   ]
  },
  {
   "cell_type": "markdown",
   "metadata": {},
   "source": [
    "## Model evaluation"
   ]
  },
  {
   "cell_type": "code",
   "execution_count": 66,
   "metadata": {},
   "outputs": [],
   "source": [
    "def evaluate_predictions(model, dataset, scaler, metric):\n",
    "    y_true = np.concatenate(\n",
    "        [scaler.inverse_transform(y.numpy().reshape(-1, 1)) for _, y in dataset]\n",
    "    )\n",
    "    y_pred = scaler.inverse_transform(model.predict(dataset))\n",
    "\n",
    "    return metric(y_true, y_pred)"
   ]
  },
  {
   "cell_type": "code",
   "execution_count": 67,
   "metadata": {},
   "outputs": [
    {
     "name": "stdout",
     "output_type": "stream",
     "text": [
      "2.252371785482778\n",
      "3.045896526270643\n",
      "2.580083232823595\n"
     ]
    }
   ],
   "source": [
    "for model in [concat_model, dot_model, mean_model]:\n",
    "    print(evaluate_predictions(model, val_dataset, scaler, rmse))"
   ]
  },
  {
   "cell_type": "markdown",
   "metadata": {},
   "source": [
    "### Evaluate with test dataset"
   ]
  },
  {
   "cell_type": "code",
   "execution_count": 68,
   "metadata": {},
   "outputs": [],
   "source": [
    "test_df[target_col] = scaler.transform(test_df[[target_col]])"
   ]
  },
  {
   "cell_type": "code",
   "execution_count": 69,
   "metadata": {},
   "outputs": [],
   "source": [
    "test_dataset = (\n",
    "    tf.data.Dataset.zip(\n",
    "        (\n",
    "            tf.data.Dataset.from_tensor_slices(\n",
    "                (test_df[\"UserID\"].values, test_df[\"GameID\"].values)\n",
    "            ),\n",
    "            tf.data.Dataset.from_tensor_slices(test_df[target_col].values),\n",
    "        )\n",
    "    )\n",
    "    .batch(BATCH_SIZE)\n",
    "    .prefetch(AUTOTUNE)\n",
    ")"
   ]
  },
  {
   "cell_type": "code",
   "execution_count": 70,
   "metadata": {},
   "outputs": [
    {
     "name": "stdout",
     "output_type": "stream",
     "text": [
      "2.2709044566238186\n",
      "3.024118667684487\n",
      "2.594963121637558\n"
     ]
    }
   ],
   "source": [
    "for model in [concat_model, dot_model, mean_model]:\n",
    "    print(evaluate_predictions(model, test_dataset, scaler, rmse))"
   ]
  },
  {
   "cell_type": "markdown",
   "metadata": {},
   "source": [
    "## Modeling with additional features"
   ]
  },
  {
   "cell_type": "markdown",
   "metadata": {},
   "source": [
    "Now including 2 additional continuous data features - \"Metascore\" and \"Avg_Userscore\""
   ]
  },
  {
   "cell_type": "code",
   "execution_count": 71,
   "metadata": {},
   "outputs": [],
   "source": [
    "feature_train_df, feature_val_df, feature_test_df = split_df(df, 0.2)"
   ]
  },
  {
   "cell_type": "code",
   "execution_count": 72,
   "metadata": {},
   "outputs": [],
   "source": [
    "feature_cols = [\"Metascore\", \"Avg_Userscore\"]"
   ]
  },
  {
   "cell_type": "code",
   "execution_count": 73,
   "metadata": {},
   "outputs": [],
   "source": [
    "feature_label_scaler = MinMaxScaler(feature_range=(0, 1))\n",
    "feature_scaler = MinMaxScaler(feature_range=(0, 1))"
   ]
  },
  {
   "cell_type": "code",
   "execution_count": 74,
   "metadata": {},
   "outputs": [
    {
     "data": {
      "text/plain": [
       "MinMaxScaler(copy=True, feature_range=(0, 1))"
      ]
     },
     "execution_count": 74,
     "metadata": {},
     "output_type": "execute_result"
    }
   ],
   "source": [
    "feature_label_scaler.fit(feature_train_df[[target_col]])\n",
    "feature_scaler.fit(feature_train_df[feature_cols])"
   ]
  },
  {
   "cell_type": "code",
   "execution_count": 75,
   "metadata": {},
   "outputs": [
    {
     "name": "stderr",
     "output_type": "stream",
     "text": [
      "/home/martynas/ml/.venv/lib/python3.6/site-packages/ipykernel_launcher.py:2: SettingWithCopyWarning: \n",
      "A value is trying to be set on a copy of a slice from a DataFrame.\n",
      "Try using .loc[row_indexer,col_indexer] = value instead\n",
      "\n",
      "See the caveats in the documentation: http://pandas.pydata.org/pandas-docs/stable/user_guide/indexing.html#returning-a-view-versus-a-copy\n",
      "  \n"
     ]
    }
   ],
   "source": [
    "feature_train_df[target_col] = feature_label_scaler.transform(\n",
    "    feature_train_df[[target_col]]\n",
    ")\n",
    "feature_val_df[target_col] = feature_label_scaler.transform(\n",
    "    feature_val_df[[target_col]]\n",
    ")"
   ]
  },
  {
   "cell_type": "code",
   "execution_count": 76,
   "metadata": {},
   "outputs": [
    {
     "name": "stderr",
     "output_type": "stream",
     "text": [
      "/home/martynas/ml/.venv/lib/python3.6/site-packages/ipykernel_launcher.py:2: SettingWithCopyWarning: \n",
      "A value is trying to be set on a copy of a slice from a DataFrame.\n",
      "Try using .loc[row_indexer,col_indexer] = value instead\n",
      "\n",
      "See the caveats in the documentation: http://pandas.pydata.org/pandas-docs/stable/user_guide/indexing.html#returning-a-view-versus-a-copy\n",
      "  \n",
      "/home/martynas/ml/.venv/lib/python3.6/site-packages/pandas/core/indexing.py:494: SettingWithCopyWarning: \n",
      "A value is trying to be set on a copy of a slice from a DataFrame.\n",
      "Try using .loc[row_indexer,col_indexer] = value instead\n",
      "\n",
      "See the caveats in the documentation: http://pandas.pydata.org/pandas-docs/stable/user_guide/indexing.html#returning-a-view-versus-a-copy\n",
      "  self.obj[item] = s\n"
     ]
    }
   ],
   "source": [
    "feature_train_df[feature_cols] = feature_scaler.transform(\n",
    "    feature_train_df[feature_cols]\n",
    ")\n",
    "feature_val_df[feature_cols] = feature_scaler.transform(feature_val_df[feature_cols])"
   ]
  },
  {
   "cell_type": "code",
   "execution_count": 77,
   "metadata": {},
   "outputs": [
    {
     "data": {
      "text/html": [
       "<div>\n",
       "<style scoped>\n",
       "    .dataframe tbody tr th:only-of-type {\n",
       "        vertical-align: middle;\n",
       "    }\n",
       "\n",
       "    .dataframe tbody tr th {\n",
       "        vertical-align: top;\n",
       "    }\n",
       "\n",
       "    .dataframe thead th {\n",
       "        text-align: right;\n",
       "    }\n",
       "</style>\n",
       "<table border=\"1\" class=\"dataframe\">\n",
       "  <thead>\n",
       "    <tr style=\"text-align: right;\">\n",
       "      <th></th>\n",
       "      <th>Userscore</th>\n",
       "      <th>GameID</th>\n",
       "      <th>UserID</th>\n",
       "      <th>Title</th>\n",
       "      <th>Year</th>\n",
       "      <th>Publisher</th>\n",
       "      <th>Genre</th>\n",
       "      <th>Platform</th>\n",
       "      <th>Metascore</th>\n",
       "      <th>Avg_Userscore</th>\n",
       "      <th>No_Players</th>\n",
       "    </tr>\n",
       "  </thead>\n",
       "  <tbody>\n",
       "    <tr>\n",
       "      <td>0</td>\n",
       "      <td>1.0</td>\n",
       "      <td>1969</td>\n",
       "      <td>7571</td>\n",
       "      <td>Kingdoms of Amalur: Reckoning</td>\n",
       "      <td>2012</td>\n",
       "      <td>BigHugeGames</td>\n",
       "      <td>Role-Playing;PC-style RPG;Action RPG</td>\n",
       "      <td>PlayStation3</td>\n",
       "      <td>0.052632</td>\n",
       "      <td>0.792208</td>\n",
       "      <td>No Online Multiplayer</td>\n",
       "    </tr>\n",
       "    <tr>\n",
       "      <td>1</td>\n",
       "      <td>0.8</td>\n",
       "      <td>2437</td>\n",
       "      <td>6679</td>\n",
       "      <td>Metroid: Samus Returns</td>\n",
       "      <td>2017</td>\n",
       "      <td>MercurySteam</td>\n",
       "      <td>Action Adventure;Open-World</td>\n",
       "      <td>3DS</td>\n",
       "      <td>0.263158</td>\n",
       "      <td>0.948052</td>\n",
       "      <td>No Online Multiplayer</td>\n",
       "    </tr>\n",
       "    <tr>\n",
       "      <td>2</td>\n",
       "      <td>0.8</td>\n",
       "      <td>718</td>\n",
       "      <td>4650</td>\n",
       "      <td>DOOM</td>\n",
       "      <td>2016</td>\n",
       "      <td>idSoftware</td>\n",
       "      <td>Sci-Fi;Action;Shooter;First-Person;Third-Perso...</td>\n",
       "      <td>XboxOne</td>\n",
       "      <td>0.368421</td>\n",
       "      <td>0.883117</td>\n",
       "      <td>Up to 12</td>\n",
       "    </tr>\n",
       "    <tr>\n",
       "      <td>3</td>\n",
       "      <td>1.0</td>\n",
       "      <td>1714</td>\n",
       "      <td>2123</td>\n",
       "      <td>Halo 4</td>\n",
       "      <td>2012</td>\n",
       "      <td>343Industries</td>\n",
       "      <td>Shooter;Sci-Fi;Sci-Fi;Action;Shooter;First-Per...</td>\n",
       "      <td>Xbox360</td>\n",
       "      <td>0.368421</td>\n",
       "      <td>0.701299</td>\n",
       "      <td>Up to 16</td>\n",
       "    </tr>\n",
       "    <tr>\n",
       "      <td>4</td>\n",
       "      <td>1.0</td>\n",
       "      <td>1379</td>\n",
       "      <td>9287</td>\n",
       "      <td>Final Fantasy VII</td>\n",
       "      <td>1997</td>\n",
       "      <td>SquareSoft</td>\n",
       "      <td>Role-Playing;Console-style RPG</td>\n",
       "      <td>PlayStation</td>\n",
       "      <td>0.631579</td>\n",
       "      <td>0.987013</td>\n",
       "      <td>1 Player</td>\n",
       "    </tr>\n",
       "  </tbody>\n",
       "</table>\n",
       "</div>"
      ],
      "text/plain": [
       "   Userscore  GameID  UserID                          Title  Year  \\\n",
       "0        1.0    1969    7571  Kingdoms of Amalur: Reckoning  2012   \n",
       "1        0.8    2437    6679         Metroid: Samus Returns  2017   \n",
       "2        0.8     718    4650                           DOOM  2016   \n",
       "3        1.0    1714    2123                         Halo 4  2012   \n",
       "4        1.0    1379    9287              Final Fantasy VII  1997   \n",
       "\n",
       "       Publisher                                              Genre  \\\n",
       "0   BigHugeGames               Role-Playing;PC-style RPG;Action RPG   \n",
       "1   MercurySteam                        Action Adventure;Open-World   \n",
       "2     idSoftware  Sci-Fi;Action;Shooter;First-Person;Third-Perso...   \n",
       "3  343Industries  Shooter;Sci-Fi;Sci-Fi;Action;Shooter;First-Per...   \n",
       "4     SquareSoft                     Role-Playing;Console-style RPG   \n",
       "\n",
       "       Platform  Metascore  Avg_Userscore             No_Players  \n",
       "0  PlayStation3   0.052632       0.792208  No Online Multiplayer  \n",
       "1           3DS   0.263158       0.948052  No Online Multiplayer  \n",
       "2       XboxOne   0.368421       0.883117              Up to 12   \n",
       "3       Xbox360   0.368421       0.701299              Up to 16   \n",
       "4   PlayStation   0.631579       0.987013               1 Player  "
      ]
     },
     "execution_count": 77,
     "metadata": {},
     "output_type": "execute_result"
    }
   ],
   "source": [
    "feature_train_df.head()"
   ]
  },
  {
   "cell_type": "code",
   "execution_count": 78,
   "metadata": {},
   "outputs": [],
   "source": [
    "train_feature_dataset = (\n",
    "    tf.data.Dataset.zip(\n",
    "        (\n",
    "            tf.data.Dataset.from_tensor_slices(\n",
    "                tuple(\n",
    "                    [\n",
    "                        feature_train_df[\"UserID\"].values,\n",
    "                        feature_train_df[\"GameID\"].values,\n",
    "                    ]\n",
    "                    + [feature_train_df[feature_cols].values]\n",
    "                )\n",
    "            ),\n",
    "            tf.data.Dataset.from_tensor_slices(feature_train_df[target_col].values),\n",
    "        )\n",
    "    )\n",
    "    .cache()\n",
    "    .repeat()\n",
    "    .shuffle(len(feature_train_df))\n",
    "    .batch(BATCH_SIZE)\n",
    "    .prefetch(AUTOTUNE)\n",
    ")"
   ]
  },
  {
   "cell_type": "code",
   "execution_count": 79,
   "metadata": {},
   "outputs": [],
   "source": [
    "val_feature_dataset = (\n",
    "    tf.data.Dataset.zip(\n",
    "        (\n",
    "            tf.data.Dataset.from_tensor_slices(\n",
    "                tuple(\n",
    "                    [feature_val_df[\"UserID\"].values, feature_val_df[\"GameID\"].values]\n",
    "                    + [feature_val_df[feature_cols].values]\n",
    "                )\n",
    "            ),\n",
    "            tf.data.Dataset.from_tensor_slices(feature_val_df[target_col].values),\n",
    "        )\n",
    "    )\n",
    "    .batch(BATCH_SIZE)\n",
    "    .prefetch(AUTOTUNE)\n",
    ")"
   ]
  },
  {
   "cell_type": "code",
   "execution_count": 80,
   "metadata": {},
   "outputs": [],
   "source": [
    "def make_feature_concat_model(\n",
    "    user_dim,\n",
    "    item_dim,\n",
    "    embedding_dim,\n",
    "    layer_size=256,\n",
    "    dropout_rate=0.0,\n",
    "    regularization=None,\n",
    "):\n",
    "    user_input = keras.layers.Input(shape=(1,))\n",
    "    user_embedding = EmbeddingLayer(user_dim, embedding_dim)(user_input)\n",
    "    user_bias = EmbeddingLayer(user_dim, 1)(user_input)\n",
    "\n",
    "    item_input = keras.layers.Input(shape=(1,))\n",
    "    item_embedding = EmbeddingLayer(item_dim, embedding_dim)(item_input)\n",
    "    item_bias = EmbeddingLayer(item_dim, 1)(item_input)\n",
    "\n",
    "    feature_input = keras.layers.Input(shape=(2,))\n",
    "    features = keras.backend.sum(feature_input, axis=1, keepdims=True)\n",
    "\n",
    "    x = keras.layers.Concatenate()(\n",
    "        [user_embedding, user_bias, item_embedding, item_bias, features]\n",
    "    )\n",
    "    x = keras.layers.BatchNormalization()(x)\n",
    "    x = keras.layers.Dropout(dropout_rate)(x)\n",
    "    x = keras.layers.Dense(\n",
    "        layer_size,\n",
    "        kernel_initializer=keras.initializers.he_uniform(),\n",
    "        kernel_regularizer=regularization and keras.regularizers.l1_l2(*regularization),\n",
    "    )(x)\n",
    "    x = keras.layers.LeakyReLU()(x)\n",
    "    x = keras.layers.BatchNormalization()(x)\n",
    "    x = keras.layers.Dropout(dropout_rate)(x)\n",
    "    x = keras.layers.Dense(1)(x)\n",
    "    outputs = keras.layers.Activation(keras.activations.sigmoid)(x)\n",
    "\n",
    "    model = keras.Model(inputs=[user_input, item_input, feature_input], outputs=outputs)\n",
    "    return model"
   ]
  },
  {
   "cell_type": "code",
   "execution_count": 81,
   "metadata": {},
   "outputs": [],
   "source": [
    "feature_concat_model = make_feature_concat_model(\n",
    "    n_users, n_games, 128, layer_size=512, dropout_rate=0.3, regularization=(1e-8, 1e-4)\n",
    ")"
   ]
  },
  {
   "cell_type": "code",
   "execution_count": 82,
   "metadata": {},
   "outputs": [
    {
     "name": "stdout",
     "output_type": "stream",
     "text": [
      "Model: \"model_2\"\n",
      "__________________________________________________________________________________________________\n",
      "Layer (type)                    Output Shape         Param #     Connected to                     \n",
      "==================================================================================================\n",
      "input_5 (InputLayer)            [(None, 1)]          0                                            \n",
      "__________________________________________________________________________________________________\n",
      "input_6 (InputLayer)            [(None, 1)]          0                                            \n",
      "__________________________________________________________________________________________________\n",
      "embedding_8 (Embedding)         (None, 1, 128)       1408000     input_5[0][0]                    \n",
      "__________________________________________________________________________________________________\n",
      "embedding_9 (Embedding)         (None, 1, 1)         11000       input_5[0][0]                    \n",
      "__________________________________________________________________________________________________\n",
      "embedding_10 (Embedding)        (None, 1, 128)       640000      input_6[0][0]                    \n",
      "__________________________________________________________________________________________________\n",
      "embedding_11 (Embedding)        (None, 1, 1)         5000        input_6[0][0]                    \n",
      "__________________________________________________________________________________________________\n",
      "input_7 (InputLayer)            [(None, 2)]          0                                            \n",
      "__________________________________________________________________________________________________\n",
      "flatten_8 (Flatten)             (None, 128)          0           embedding_8[0][0]                \n",
      "__________________________________________________________________________________________________\n",
      "flatten_9 (Flatten)             (None, 1)            0           embedding_9[0][0]                \n",
      "__________________________________________________________________________________________________\n",
      "flatten_10 (Flatten)            (None, 128)          0           embedding_10[0][0]               \n",
      "__________________________________________________________________________________________________\n",
      "flatten_11 (Flatten)            (None, 1)            0           embedding_11[0][0]               \n",
      "__________________________________________________________________________________________________\n",
      "tf_op_layer_Sum (TensorFlowOpLa [(None, 1)]          0           input_7[0][0]                    \n",
      "__________________________________________________________________________________________________\n",
      "concatenate_1 (Concatenate)     (None, 259)          0           flatten_8[0][0]                  \n",
      "                                                                 flatten_9[0][0]                  \n",
      "                                                                 flatten_10[0][0]                 \n",
      "                                                                 flatten_11[0][0]                 \n",
      "                                                                 tf_op_layer_Sum[0][0]            \n",
      "__________________________________________________________________________________________________\n",
      "batch_normalization_2 (BatchNor (None, 259)          1036        concatenate_1[0][0]              \n",
      "__________________________________________________________________________________________________\n",
      "dropout_2 (Dropout)             (None, 259)          0           batch_normalization_2[0][0]      \n",
      "__________________________________________________________________________________________________\n",
      "dense_2 (Dense)                 (None, 512)          133120      dropout_2[0][0]                  \n",
      "__________________________________________________________________________________________________\n",
      "leaky_re_lu_1 (LeakyReLU)       (None, 512)          0           dense_2[0][0]                    \n",
      "__________________________________________________________________________________________________\n",
      "batch_normalization_3 (BatchNor (None, 512)          2048        leaky_re_lu_1[0][0]              \n",
      "__________________________________________________________________________________________________\n",
      "dropout_3 (Dropout)             (None, 512)          0           batch_normalization_3[0][0]      \n",
      "__________________________________________________________________________________________________\n",
      "dense_3 (Dense)                 (None, 1)            513         dropout_3[0][0]                  \n",
      "__________________________________________________________________________________________________\n",
      "activation_2 (Activation)       (None, 1)            0           dense_3[0][0]                    \n",
      "==================================================================================================\n",
      "Total params: 2,200,717\n",
      "Trainable params: 2,199,175\n",
      "Non-trainable params: 1,542\n",
      "__________________________________________________________________________________________________\n"
     ]
    }
   ],
   "source": [
    "feature_concat_model.summary()"
   ]
  },
  {
   "cell_type": "code",
   "execution_count": 83,
   "metadata": {},
   "outputs": [],
   "source": [
    "feature_concat_model.compile(\n",
    "    optimizer=keras.optimizers.Adam(3e-5),\n",
    "    loss=keras.losses.mse,\n",
    "    metrics=[keras.metrics.mae],\n",
    ")"
   ]
  },
  {
   "cell_type": "code",
   "execution_count": 84,
   "metadata": {},
   "outputs": [],
   "source": [
    "PATIENCE = 5\n",
    "\n",
    "train_data_steps = len(feature_train_df) // BATCH_SIZE\n",
    "concat_feature_model_history = feature_concat_model.fit(\n",
    "    train_feature_dataset,\n",
    "    steps_per_epoch=train_data_steps,\n",
    "    validation_data=val_feature_dataset,\n",
    "    epochs=100,\n",
    "    callbacks=[\n",
    "        tf.keras.callbacks.ReduceLROnPlateau(factor=0.3, patience=PATIENCE),\n",
    "        tf.keras.callbacks.EarlyStopping(\n",
    "            patience=PATIENCE * 2, restore_best_weights=True\n",
    "        ),\n",
    "    ],\n",
    "    verbose=0,\n",
    ")"
   ]
  },
  {
   "cell_type": "code",
   "execution_count": 104,
   "metadata": {},
   "outputs": [
    {
     "data": {
      "text/html": [
       "<div>\n",
       "<style scoped>\n",
       "    .dataframe tbody tr th:only-of-type {\n",
       "        vertical-align: middle;\n",
       "    }\n",
       "\n",
       "    .dataframe tbody tr th {\n",
       "        vertical-align: top;\n",
       "    }\n",
       "\n",
       "    .dataframe thead th {\n",
       "        text-align: right;\n",
       "    }\n",
       "</style>\n",
       "<table border=\"1\" class=\"dataframe\">\n",
       "  <thead>\n",
       "    <tr style=\"text-align: right;\">\n",
       "      <th></th>\n",
       "      <th>loss</th>\n",
       "      <th>mean_absolute_error</th>\n",
       "      <th>val_loss</th>\n",
       "      <th>val_mean_absolute_error</th>\n",
       "      <th>lr</th>\n",
       "    </tr>\n",
       "  </thead>\n",
       "  <tbody>\n",
       "    <tr>\n",
       "      <td>95</td>\n",
       "      <td>0.061193</td>\n",
       "      <td>0.130365</td>\n",
       "      <td>0.077693</td>\n",
       "      <td>0.155766</td>\n",
       "      <td>0.00003</td>\n",
       "    </tr>\n",
       "    <tr>\n",
       "      <td>96</td>\n",
       "      <td>0.060561</td>\n",
       "      <td>0.130274</td>\n",
       "      <td>0.077348</td>\n",
       "      <td>0.155895</td>\n",
       "      <td>0.00003</td>\n",
       "    </tr>\n",
       "    <tr>\n",
       "      <td>97</td>\n",
       "      <td>0.059549</td>\n",
       "      <td>0.128948</td>\n",
       "      <td>0.076986</td>\n",
       "      <td>0.155944</td>\n",
       "      <td>0.00003</td>\n",
       "    </tr>\n",
       "    <tr>\n",
       "      <td>98</td>\n",
       "      <td>0.059426</td>\n",
       "      <td>0.129497</td>\n",
       "      <td>0.076466</td>\n",
       "      <td>0.155690</td>\n",
       "      <td>0.00003</td>\n",
       "    </tr>\n",
       "    <tr>\n",
       "      <td>99</td>\n",
       "      <td>0.058345</td>\n",
       "      <td>0.128093</td>\n",
       "      <td>0.076181</td>\n",
       "      <td>0.155767</td>\n",
       "      <td>0.00003</td>\n",
       "    </tr>\n",
       "  </tbody>\n",
       "</table>\n",
       "</div>"
      ],
      "text/plain": [
       "        loss  mean_absolute_error  val_loss  val_mean_absolute_error       lr\n",
       "95  0.061193             0.130365  0.077693                 0.155766  0.00003\n",
       "96  0.060561             0.130274  0.077348                 0.155895  0.00003\n",
       "97  0.059549             0.128948  0.076986                 0.155944  0.00003\n",
       "98  0.059426             0.129497  0.076466                 0.155690  0.00003\n",
       "99  0.058345             0.128093  0.076181                 0.155767  0.00003"
      ]
     },
     "execution_count": 104,
     "metadata": {},
     "output_type": "execute_result"
    }
   ],
   "source": [
    "pd.DataFrame(concat_feature_model_history.history).tail()"
   ]
  },
  {
   "cell_type": "code",
   "execution_count": 85,
   "metadata": {},
   "outputs": [
    {
     "data": {
      "text/plain": [
       "(None, None)"
      ]
     },
     "execution_count": 85,
     "metadata": {},
     "output_type": "execute_result"
    },
    {
     "data": {
      "image/png": "[encoded data removed]",
      "text/plain": [
       "<Figure size 432x288 with 1 Axes>"
      ]
     },
     "metadata": {
      "needs_background": "light"
     },
     "output_type": "display_data"
    },
    {
     "data": {
      "image/png": "[encoded data removed]",
      "text/plain": [
       "<Figure size 432x288 with 1 Axes>"
      ]
     },
     "metadata": {
      "needs_background": "light"
     },
     "output_type": "display_data"
    }
   ],
   "source": [
    "show_history(concat_feature_model_history, \"loss\"), show_history(\n",
    "    concat_feature_model_history, \"err\"\n",
    ")"
   ]
  },
  {
   "cell_type": "code",
   "execution_count": 86,
   "metadata": {},
   "outputs": [],
   "source": [
    "def make_feature_dot_model(user_dim, item_dim, embedding_dim):\n",
    "    user_input = keras.layers.Input(shape=(1,))\n",
    "    user_embedding = keras.layers.Embedding(user_dim, embedding_dim, input_length=1)(\n",
    "        user_input\n",
    "    )\n",
    "    user_embedding = keras.layers.Flatten()(user_embedding)\n",
    "    user_bias = keras.layers.Embedding(user_dim, 1, input_length=1)(user_input)\n",
    "    user_bias = keras.layers.Flatten()(user_bias)\n",
    "\n",
    "    item_input = keras.layers.Input(shape=(1,))\n",
    "    item_embedding = keras.layers.Embedding(item_dim, embedding_dim, input_length=1)(\n",
    "        item_input\n",
    "    )\n",
    "    item_embedding = keras.layers.Flatten()(item_embedding)\n",
    "    item_bias = keras.layers.Embedding(item_dim, 1, input_length=1)(item_input)\n",
    "    item_bias = keras.layers.Flatten()(item_bias)\n",
    "\n",
    "    feature_input = keras.layers.Input(shape=(2,))\n",
    "    features = keras.backend.sum(feature_input, axis=1, keepdims=True)\n",
    "\n",
    "    dot_product = keras.layers.Dot(axes=1)([user_embedding, item_embedding])\n",
    "    logits = keras.layers.Add()([dot_product, user_bias, item_bias, features])\n",
    "    outputs = keras.layers.Activation(keras.activations.sigmoid)(logits)\n",
    "\n",
    "    model = keras.Model(inputs=[user_input, item_input, feature_input], outputs=outputs)\n",
    "    return model"
   ]
  },
  {
   "cell_type": "code",
   "execution_count": 87,
   "metadata": {},
   "outputs": [],
   "source": [
    "feature_dot_model = make_feature_dot_model(n_users, n_games, 128)"
   ]
  },
  {
   "cell_type": "code",
   "execution_count": 88,
   "metadata": {},
   "outputs": [
    {
     "name": "stdout",
     "output_type": "stream",
     "text": [
      "Model: \"model_3\"\n",
      "__________________________________________________________________________________________________\n",
      "Layer (type)                    Output Shape         Param #     Connected to                     \n",
      "==================================================================================================\n",
      "input_8 (InputLayer)            [(None, 1)]          0                                            \n",
      "__________________________________________________________________________________________________\n",
      "input_9 (InputLayer)            [(None, 1)]          0                                            \n",
      "__________________________________________________________________________________________________\n",
      "embedding_12 (Embedding)        (None, 1, 128)       1408000     input_8[0][0]                    \n",
      "__________________________________________________________________________________________________\n",
      "embedding_14 (Embedding)        (None, 1, 128)       640000      input_9[0][0]                    \n",
      "__________________________________________________________________________________________________\n",
      "flatten_12 (Flatten)            (None, 128)          0           embedding_12[0][0]               \n",
      "__________________________________________________________________________________________________\n",
      "flatten_14 (Flatten)            (None, 128)          0           embedding_14[0][0]               \n",
      "__________________________________________________________________________________________________\n",
      "embedding_13 (Embedding)        (None, 1, 1)         11000       input_8[0][0]                    \n",
      "__________________________________________________________________________________________________\n",
      "embedding_15 (Embedding)        (None, 1, 1)         5000        input_9[0][0]                    \n",
      "__________________________________________________________________________________________________\n",
      "input_10 (InputLayer)           [(None, 2)]          0                                            \n",
      "__________________________________________________________________________________________________\n",
      "dot_1 (Dot)                     (None, 1)            0           flatten_12[0][0]                 \n",
      "                                                                 flatten_14[0][0]                 \n",
      "__________________________________________________________________________________________________\n",
      "flatten_13 (Flatten)            (None, 1)            0           embedding_13[0][0]               \n",
      "__________________________________________________________________________________________________\n",
      "flatten_15 (Flatten)            (None, 1)            0           embedding_15[0][0]               \n",
      "__________________________________________________________________________________________________\n",
      "tf_op_layer_Sum_1 (TensorFlowOp [(None, 1)]          0           input_10[0][0]                   \n",
      "__________________________________________________________________________________________________\n",
      "add_1 (Add)                     (None, 1)            0           dot_1[0][0]                      \n",
      "                                                                 flatten_13[0][0]                 \n",
      "                                                                 flatten_15[0][0]                 \n",
      "                                                                 tf_op_layer_Sum_1[0][0]          \n",
      "__________________________________________________________________________________________________\n",
      "activation_3 (Activation)       (None, 1)            0           add_1[0][0]                      \n",
      "==================================================================================================\n",
      "Total params: 2,064,000\n",
      "Trainable params: 2,064,000\n",
      "Non-trainable params: 0\n",
      "__________________________________________________________________________________________________\n"
     ]
    }
   ],
   "source": [
    "feature_dot_model.summary()"
   ]
  },
  {
   "cell_type": "code",
   "execution_count": 89,
   "metadata": {},
   "outputs": [],
   "source": [
    "feature_dot_model.compile(\n",
    "    optimizer=keras.optimizers.Adam(3e-5),\n",
    "    loss=keras.losses.mse,\n",
    "    metrics=[keras.metrics.mae],\n",
    ")"
   ]
  },
  {
   "cell_type": "code",
   "execution_count": 90,
   "metadata": {},
   "outputs": [],
   "source": [
    "PATIENCE = 5\n",
    "\n",
    "train_data_steps = len(feature_train_df) // BATCH_SIZE\n",
    "feature_dot_model_history = feature_dot_model.fit(\n",
    "    train_feature_dataset,\n",
    "    steps_per_epoch=train_data_steps,\n",
    "    validation_data=val_feature_dataset,\n",
    "    epochs=100,\n",
    "    callbacks=[\n",
    "        tf.keras.callbacks.ReduceLROnPlateau(factor=0.3, patience=PATIENCE),\n",
    "        tf.keras.callbacks.EarlyStopping(\n",
    "            patience=PATIENCE * 2, restore_best_weights=True\n",
    "        ),\n",
    "    ],\n",
    "    verbose=0,\n",
    ")"
   ]
  },
  {
   "cell_type": "code",
   "execution_count": 105,
   "metadata": {},
   "outputs": [
    {
     "data": {
      "text/html": [
       "<div>\n",
       "<style scoped>\n",
       "    .dataframe tbody tr th:only-of-type {\n",
       "        vertical-align: middle;\n",
       "    }\n",
       "\n",
       "    .dataframe tbody tr th {\n",
       "        vertical-align: top;\n",
       "    }\n",
       "\n",
       "    .dataframe thead th {\n",
       "        text-align: right;\n",
       "    }\n",
       "</style>\n",
       "<table border=\"1\" class=\"dataframe\">\n",
       "  <thead>\n",
       "    <tr style=\"text-align: right;\">\n",
       "      <th></th>\n",
       "      <th>loss</th>\n",
       "      <th>mean_absolute_error</th>\n",
       "      <th>val_loss</th>\n",
       "      <th>val_mean_absolute_error</th>\n",
       "      <th>lr</th>\n",
       "    </tr>\n",
       "  </thead>\n",
       "  <tbody>\n",
       "    <tr>\n",
       "      <td>95</td>\n",
       "      <td>0.042713</td>\n",
       "      <td>0.153512</td>\n",
       "      <td>0.056142</td>\n",
       "      <td>0.179157</td>\n",
       "      <td>0.00003</td>\n",
       "    </tr>\n",
       "    <tr>\n",
       "      <td>96</td>\n",
       "      <td>0.042264</td>\n",
       "      <td>0.152853</td>\n",
       "      <td>0.056097</td>\n",
       "      <td>0.179064</td>\n",
       "      <td>0.00003</td>\n",
       "    </tr>\n",
       "    <tr>\n",
       "      <td>97</td>\n",
       "      <td>0.042196</td>\n",
       "      <td>0.152520</td>\n",
       "      <td>0.056052</td>\n",
       "      <td>0.178973</td>\n",
       "      <td>0.00003</td>\n",
       "    </tr>\n",
       "    <tr>\n",
       "      <td>98</td>\n",
       "      <td>0.042055</td>\n",
       "      <td>0.152015</td>\n",
       "      <td>0.056008</td>\n",
       "      <td>0.178885</td>\n",
       "      <td>0.00003</td>\n",
       "    </tr>\n",
       "    <tr>\n",
       "      <td>99</td>\n",
       "      <td>0.041716</td>\n",
       "      <td>0.151427</td>\n",
       "      <td>0.055962</td>\n",
       "      <td>0.178791</td>\n",
       "      <td>0.00003</td>\n",
       "    </tr>\n",
       "  </tbody>\n",
       "</table>\n",
       "</div>"
      ],
      "text/plain": [
       "        loss  mean_absolute_error  val_loss  val_mean_absolute_error       lr\n",
       "95  0.042713             0.153512  0.056142                 0.179157  0.00003\n",
       "96  0.042264             0.152853  0.056097                 0.179064  0.00003\n",
       "97  0.042196             0.152520  0.056052                 0.178973  0.00003\n",
       "98  0.042055             0.152015  0.056008                 0.178885  0.00003\n",
       "99  0.041716             0.151427  0.055962                 0.178791  0.00003"
      ]
     },
     "execution_count": 105,
     "metadata": {},
     "output_type": "execute_result"
    }
   ],
   "source": [
    "pd.DataFrame(feature_dot_model_history.history).tail()"
   ]
  },
  {
   "cell_type": "code",
   "execution_count": 91,
   "metadata": {},
   "outputs": [
    {
     "data": {
      "text/plain": [
       "(None, None)"
      ]
     },
     "execution_count": 91,
     "metadata": {},
     "output_type": "execute_result"
    },
    {
     "data": {
      "image/png": "[encoded data removed]",
      "text/plain": [
       "<Figure size 432x288 with 1 Axes>"
      ]
     },
     "metadata": {
      "needs_background": "light"
     },
     "output_type": "display_data"
    },
    {
     "data": {
      "image/png": "[encoded data removed]",
      "text/plain": [
       "<Figure size 432x288 with 1 Axes>"
      ]
     },
     "metadata": {
      "needs_background": "light"
     },
     "output_type": "display_data"
    }
   ],
   "source": [
    "show_history(feature_dot_model_history, \"loss\"), show_history(\n",
    "    feature_dot_model_history, \"err\"\n",
    ")"
   ]
  },
  {
   "cell_type": "code",
   "execution_count": 92,
   "metadata": {},
   "outputs": [],
   "source": [
    "def evaluate_feature_predictions(model, dataset, scaler, metric):\n",
    "    y_true = np.concatenate(\n",
    "        [scaler.inverse_transform(y.numpy().reshape(-1, 1)) for _, y in dataset]\n",
    "    )\n",
    "    y_pred = scaler.inverse_transform(model.predict(dataset))\n",
    "\n",
    "    return metric(y_true, y_pred)"
   ]
  },
  {
   "cell_type": "code",
   "execution_count": 93,
   "metadata": {},
   "outputs": [
    {
     "name": "stdout",
     "output_type": "stream",
     "text": [
      "2.2596232531587077\n",
      "2.3659924360560733\n"
     ]
    }
   ],
   "source": [
    "for model in [feature_concat_model, feature_dot_model]:\n",
    "    print(\n",
    "        evaluate_feature_predictions(\n",
    "            model, val_feature_dataset, feature_label_scaler, rmse\n",
    "        )\n",
    "    )"
   ]
  },
  {
   "cell_type": "markdown",
   "metadata": {},
   "source": [
    "For comparison with previous iteration:  \n",
    "__Concat Model__: 2.252 >> 2.259   \n",
    "__Dot Model__: 3.06 >> 2.366"
   ]
  },
  {
   "cell_type": "markdown",
   "metadata": {},
   "source": [
    "### Evaluate with test dataset"
   ]
  },
  {
   "cell_type": "code",
   "execution_count": 94,
   "metadata": {},
   "outputs": [],
   "source": [
    "feature_test_df[target_col] = feature_label_scaler.transform(\n",
    "    feature_test_df[[target_col]]\n",
    ")\n",
    "feature_test_df[feature_cols] = feature_scaler.transform(feature_test_df[feature_cols])"
   ]
  },
  {
   "cell_type": "code",
   "execution_count": 95,
   "metadata": {},
   "outputs": [],
   "source": [
    "test_feature_dataset = (\n",
    "    tf.data.Dataset.zip(\n",
    "        (\n",
    "            tf.data.Dataset.from_tensor_slices(\n",
    "                tuple(\n",
    "                    [feature_test_df[\"UserID\"].values, feature_test_df[\"GameID\"].values]\n",
    "                    + [feature_test_df[feature_cols].values]\n",
    "                )\n",
    "            ),\n",
    "            tf.data.Dataset.from_tensor_slices(feature_test_df[target_col].values),\n",
    "        )\n",
    "    )\n",
    "    .batch(BATCH_SIZE)\n",
    "    .prefetch(AUTOTUNE)\n",
    ")"
   ]
  },
  {
   "cell_type": "code",
   "execution_count": 96,
   "metadata": {},
   "outputs": [
    {
     "name": "stdout",
     "output_type": "stream",
     "text": [
      "2.273660130964289\n",
      "2.3806387575853356\n"
     ]
    }
   ],
   "source": [
    "for model in [feature_concat_model, feature_dot_model]:\n",
    "    print(\n",
    "        evaluate_feature_predictions(\n",
    "            model, test_feature_dataset, feature_label_scaler, rmse\n",
    "        )\n",
    "    )"
   ]
  },
  {
   "cell_type": "markdown",
   "metadata": {},
   "source": [
    "For comparison with previous iteration:  \n",
    "__Concat Model__: 2.279 >> 2.271  \n",
    "__Dot Model__: 3.05 >> 2.38"
   ]
  },
  {
   "cell_type": "markdown",
   "metadata": {},
   "source": [
    "## Modeling with additional features and additional embedding"
   ]
  },
  {
   "cell_type": "code",
   "execution_count": 97,
   "metadata": {},
   "outputs": [
    {
     "data": {
      "text/html": [
       "<div>\n",
       "<style scoped>\n",
       "    .dataframe tbody tr th:only-of-type {\n",
       "        vertical-align: middle;\n",
       "    }\n",
       "\n",
       "    .dataframe tbody tr th {\n",
       "        vertical-align: top;\n",
       "    }\n",
       "\n",
       "    .dataframe thead th {\n",
       "        text-align: right;\n",
       "    }\n",
       "</style>\n",
       "<table border=\"1\" class=\"dataframe\">\n",
       "  <thead>\n",
       "    <tr style=\"text-align: right;\">\n",
       "      <th></th>\n",
       "      <th>Userscore</th>\n",
       "      <th>GameID</th>\n",
       "      <th>UserID</th>\n",
       "      <th>Title</th>\n",
       "      <th>Year</th>\n",
       "      <th>Publisher</th>\n",
       "      <th>Genre</th>\n",
       "      <th>Platform</th>\n",
       "      <th>Metascore</th>\n",
       "      <th>Avg_Userscore</th>\n",
       "      <th>No_Players</th>\n",
       "    </tr>\n",
       "  </thead>\n",
       "  <tbody>\n",
       "    <tr>\n",
       "      <td>0</td>\n",
       "      <td>10</td>\n",
       "      <td>4209</td>\n",
       "      <td>7976</td>\n",
       "      <td>The Legend of Zelda: Ocarina of Time</td>\n",
       "      <td>1998</td>\n",
       "      <td>Nintendo</td>\n",
       "      <td>Action Adventure;Fantasy</td>\n",
       "      <td>Nintendo64</td>\n",
       "      <td>99</td>\n",
       "      <td>9.1</td>\n",
       "      <td>1 Player</td>\n",
       "    </tr>\n",
       "    <tr>\n",
       "      <td>1</td>\n",
       "      <td>10</td>\n",
       "      <td>4209</td>\n",
       "      <td>6221</td>\n",
       "      <td>The Legend of Zelda: Ocarina of Time</td>\n",
       "      <td>1998</td>\n",
       "      <td>Nintendo</td>\n",
       "      <td>Action Adventure;Fantasy</td>\n",
       "      <td>Nintendo64</td>\n",
       "      <td>99</td>\n",
       "      <td>9.1</td>\n",
       "      <td>1 Player</td>\n",
       "    </tr>\n",
       "    <tr>\n",
       "      <td>2</td>\n",
       "      <td>10</td>\n",
       "      <td>4209</td>\n",
       "      <td>4864</td>\n",
       "      <td>The Legend of Zelda: Ocarina of Time</td>\n",
       "      <td>1998</td>\n",
       "      <td>Nintendo</td>\n",
       "      <td>Action Adventure;Fantasy</td>\n",
       "      <td>Nintendo64</td>\n",
       "      <td>99</td>\n",
       "      <td>9.1</td>\n",
       "      <td>1 Player</td>\n",
       "    </tr>\n",
       "    <tr>\n",
       "      <td>3</td>\n",
       "      <td>10</td>\n",
       "      <td>4209</td>\n",
       "      <td>3634</td>\n",
       "      <td>The Legend of Zelda: Ocarina of Time</td>\n",
       "      <td>1998</td>\n",
       "      <td>Nintendo</td>\n",
       "      <td>Action Adventure;Fantasy</td>\n",
       "      <td>Nintendo64</td>\n",
       "      <td>99</td>\n",
       "      <td>9.1</td>\n",
       "      <td>1 Player</td>\n",
       "    </tr>\n",
       "    <tr>\n",
       "      <td>4</td>\n",
       "      <td>10</td>\n",
       "      <td>4209</td>\n",
       "      <td>818</td>\n",
       "      <td>The Legend of Zelda: Ocarina of Time</td>\n",
       "      <td>1998</td>\n",
       "      <td>Nintendo</td>\n",
       "      <td>Action Adventure;Fantasy</td>\n",
       "      <td>Nintendo64</td>\n",
       "      <td>99</td>\n",
       "      <td>9.1</td>\n",
       "      <td>1 Player</td>\n",
       "    </tr>\n",
       "  </tbody>\n",
       "</table>\n",
       "</div>"
      ],
      "text/plain": [
       "   Userscore  GameID  UserID                                 Title  Year  \\\n",
       "0         10    4209    7976  The Legend of Zelda: Ocarina of Time  1998   \n",
       "1         10    4209    6221  The Legend of Zelda: Ocarina of Time  1998   \n",
       "2         10    4209    4864  The Legend of Zelda: Ocarina of Time  1998   \n",
       "3         10    4209    3634  The Legend of Zelda: Ocarina of Time  1998   \n",
       "4         10    4209     818  The Legend of Zelda: Ocarina of Time  1998   \n",
       "\n",
       "  Publisher                     Genre    Platform  Metascore  Avg_Userscore  \\\n",
       "0  Nintendo  Action Adventure;Fantasy  Nintendo64         99            9.1   \n",
       "1  Nintendo  Action Adventure;Fantasy  Nintendo64         99            9.1   \n",
       "2  Nintendo  Action Adventure;Fantasy  Nintendo64         99            9.1   \n",
       "3  Nintendo  Action Adventure;Fantasy  Nintendo64         99            9.1   \n",
       "4  Nintendo  Action Adventure;Fantasy  Nintendo64         99            9.1   \n",
       "\n",
       "  No_Players  \n",
       "0   1 Player  \n",
       "1   1 Player  \n",
       "2   1 Player  \n",
       "3   1 Player  \n",
       "4   1 Player  "
      ]
     },
     "execution_count": 97,
     "metadata": {},
     "output_type": "execute_result"
    }
   ],
   "source": [
    "df.head()"
   ]
  },
  {
   "cell_type": "code",
   "execution_count": 98,
   "metadata": {},
   "outputs": [
    {
     "data": {
      "text/plain": [
       "<matplotlib.axes._subplots.AxesSubplot at 0x7ff5982bb5c0>"
      ]
     },
     "execution_count": 98,
     "metadata": {},
     "output_type": "execute_result"
    },
    {
     "data": {
      "image/png": "[encoded data removed]",
      "text/plain": [
       "<Figure size 432x288 with 1 Axes>"
      ]
     },
     "metadata": {
      "needs_background": "light"
     },
     "output_type": "display_data"
    }
   ],
   "source": [
    "sns.countplot(y=\"Platform\", data=df)"
   ]
  },
  {
   "cell_type": "code",
   "execution_count": 99,
   "metadata": {},
   "outputs": [],
   "source": [
    "platform_map = {\n",
    "    platform: idx for idx, platform in enumerate(np.unique(df[\"Platform\"].values))\n",
    "}"
   ]
  },
  {
   "cell_type": "code",
   "execution_count": 100,
   "metadata": {},
   "outputs": [
    {
     "data": {
      "text/plain": [
       "{'3DS': 0,\n",
       " 'DS': 1,\n",
       " 'Dreamcast': 2,\n",
       " 'GameBoyAdvance': 3,\n",
       " 'GameCube': 4,\n",
       " 'Nintendo64': 5,\n",
       " 'PC': 6,\n",
       " 'PSP': 7,\n",
       " 'PlayStation': 8,\n",
       " 'PlayStation2': 9,\n",
       " 'PlayStation3': 10,\n",
       " 'PlayStation4': 11,\n",
       " 'PlayStationVita': 12,\n",
       " 'Switch': 13,\n",
       " 'Wii': 14,\n",
       " 'WiiU': 15,\n",
       " 'Xbox': 16,\n",
       " 'Xbox360': 17,\n",
       " 'XboxOne': 18}"
      ]
     },
     "execution_count": 100,
     "metadata": {},
     "output_type": "execute_result"
    }
   ],
   "source": [
    "platform_map"
   ]
  },
  {
   "cell_type": "code",
   "execution_count": 101,
   "metadata": {},
   "outputs": [],
   "source": [
    "df[\"PlatfromID\"] = df.apply(lambda x: platform_map[x[\"Platform\"]], axis=1)"
   ]
  },
  {
   "cell_type": "code",
   "execution_count": 55,
   "metadata": {},
   "outputs": [
    {
     "data": {
      "text/html": [
       "<div>\n",
       "<style scoped>\n",
       "    .dataframe tbody tr th:only-of-type {\n",
       "        vertical-align: middle;\n",
       "    }\n",
       "\n",
       "    .dataframe tbody tr th {\n",
       "        vertical-align: top;\n",
       "    }\n",
       "\n",
       "    .dataframe thead th {\n",
       "        text-align: right;\n",
       "    }\n",
       "</style>\n",
       "<table border=\"1\" class=\"dataframe\">\n",
       "  <thead>\n",
       "    <tr style=\"text-align: right;\">\n",
       "      <th></th>\n",
       "      <th>Userscore</th>\n",
       "      <th>GameID</th>\n",
       "      <th>UserID</th>\n",
       "      <th>Title</th>\n",
       "      <th>Year</th>\n",
       "      <th>Publisher</th>\n",
       "      <th>Genre</th>\n",
       "      <th>Platform</th>\n",
       "      <th>Metascore</th>\n",
       "      <th>Avg_Userscore</th>\n",
       "      <th>No_Players</th>\n",
       "      <th>PlatfromID</th>\n",
       "    </tr>\n",
       "  </thead>\n",
       "  <tbody>\n",
       "    <tr>\n",
       "      <td>0</td>\n",
       "      <td>10</td>\n",
       "      <td>4209</td>\n",
       "      <td>7976</td>\n",
       "      <td>The Legend of Zelda: Ocarina of Time</td>\n",
       "      <td>1998</td>\n",
       "      <td>Nintendo</td>\n",
       "      <td>Action Adventure;Fantasy</td>\n",
       "      <td>Nintendo64</td>\n",
       "      <td>99</td>\n",
       "      <td>9.1</td>\n",
       "      <td>1 Player</td>\n",
       "      <td>5</td>\n",
       "    </tr>\n",
       "    <tr>\n",
       "      <td>1</td>\n",
       "      <td>10</td>\n",
       "      <td>4209</td>\n",
       "      <td>6221</td>\n",
       "      <td>The Legend of Zelda: Ocarina of Time</td>\n",
       "      <td>1998</td>\n",
       "      <td>Nintendo</td>\n",
       "      <td>Action Adventure;Fantasy</td>\n",
       "      <td>Nintendo64</td>\n",
       "      <td>99</td>\n",
       "      <td>9.1</td>\n",
       "      <td>1 Player</td>\n",
       "      <td>5</td>\n",
       "    </tr>\n",
       "    <tr>\n",
       "      <td>2</td>\n",
       "      <td>10</td>\n",
       "      <td>4209</td>\n",
       "      <td>4864</td>\n",
       "      <td>The Legend of Zelda: Ocarina of Time</td>\n",
       "      <td>1998</td>\n",
       "      <td>Nintendo</td>\n",
       "      <td>Action Adventure;Fantasy</td>\n",
       "      <td>Nintendo64</td>\n",
       "      <td>99</td>\n",
       "      <td>9.1</td>\n",
       "      <td>1 Player</td>\n",
       "      <td>5</td>\n",
       "    </tr>\n",
       "    <tr>\n",
       "      <td>3</td>\n",
       "      <td>10</td>\n",
       "      <td>4209</td>\n",
       "      <td>3634</td>\n",
       "      <td>The Legend of Zelda: Ocarina of Time</td>\n",
       "      <td>1998</td>\n",
       "      <td>Nintendo</td>\n",
       "      <td>Action Adventure;Fantasy</td>\n",
       "      <td>Nintendo64</td>\n",
       "      <td>99</td>\n",
       "      <td>9.1</td>\n",
       "      <td>1 Player</td>\n",
       "      <td>5</td>\n",
       "    </tr>\n",
       "    <tr>\n",
       "      <td>4</td>\n",
       "      <td>10</td>\n",
       "      <td>4209</td>\n",
       "      <td>818</td>\n",
       "      <td>The Legend of Zelda: Ocarina of Time</td>\n",
       "      <td>1998</td>\n",
       "      <td>Nintendo</td>\n",
       "      <td>Action Adventure;Fantasy</td>\n",
       "      <td>Nintendo64</td>\n",
       "      <td>99</td>\n",
       "      <td>9.1</td>\n",
       "      <td>1 Player</td>\n",
       "      <td>5</td>\n",
       "    </tr>\n",
       "  </tbody>\n",
       "</table>\n",
       "</div>"
      ],
      "text/plain": [
       "   Userscore  GameID  UserID                                 Title  Year  \\\n",
       "0         10    4209    7976  The Legend of Zelda: Ocarina of Time  1998   \n",
       "1         10    4209    6221  The Legend of Zelda: Ocarina of Time  1998   \n",
       "2         10    4209    4864  The Legend of Zelda: Ocarina of Time  1998   \n",
       "3         10    4209    3634  The Legend of Zelda: Ocarina of Time  1998   \n",
       "4         10    4209     818  The Legend of Zelda: Ocarina of Time  1998   \n",
       "\n",
       "  Publisher                     Genre    Platform  Metascore  Avg_Userscore  \\\n",
       "0  Nintendo  Action Adventure;Fantasy  Nintendo64         99            9.1   \n",
       "1  Nintendo  Action Adventure;Fantasy  Nintendo64         99            9.1   \n",
       "2  Nintendo  Action Adventure;Fantasy  Nintendo64         99            9.1   \n",
       "3  Nintendo  Action Adventure;Fantasy  Nintendo64         99            9.1   \n",
       "4  Nintendo  Action Adventure;Fantasy  Nintendo64         99            9.1   \n",
       "\n",
       "  No_Players  PlatfromID  \n",
       "0   1 Player           5  \n",
       "1   1 Player           5  \n",
       "2   1 Player           5  \n",
       "3   1 Player           5  \n",
       "4   1 Player           5  "
      ]
     },
     "execution_count": 55,
     "metadata": {},
     "output_type": "execute_result"
    }
   ],
   "source": [
    "df.head()"
   ]
  },
  {
   "cell_type": "code",
   "execution_count": 106,
   "metadata": {},
   "outputs": [],
   "source": [
    "feature_train_df2, feature_val_df2, feature_test_df2 = split_df(df, 0.2)"
   ]
  },
  {
   "cell_type": "code",
   "execution_count": 57,
   "metadata": {},
   "outputs": [],
   "source": [
    "feature_cols = [\"Metascore\", \"Avg_Userscore\"]"
   ]
  },
  {
   "cell_type": "code",
   "execution_count": 58,
   "metadata": {},
   "outputs": [],
   "source": [
    "feature_label_scaler = MinMaxScaler(feature_range=(0, 1))\n",
    "feature_scaler = MinMaxScaler(feature_range=(0, 1))"
   ]
  },
  {
   "cell_type": "code",
   "execution_count": 107,
   "metadata": {},
   "outputs": [
    {
     "data": {
      "text/plain": [
       "MinMaxScaler(copy=True, feature_range=(0, 1))"
      ]
     },
     "execution_count": 107,
     "metadata": {},
     "output_type": "execute_result"
    }
   ],
   "source": [
    "feature_label_scaler.fit(feature_train_df2[[target_col]])\n",
    "feature_scaler.fit(feature_train_df2[feature_cols])"
   ]
  },
  {
   "cell_type": "code",
   "execution_count": 108,
   "metadata": {},
   "outputs": [
    {
     "name": "stderr",
     "output_type": "stream",
     "text": [
      "/home/martynas/ml/.venv/lib/python3.6/site-packages/ipykernel_launcher.py:2: SettingWithCopyWarning: \n",
      "A value is trying to be set on a copy of a slice from a DataFrame.\n",
      "Try using .loc[row_indexer,col_indexer] = value instead\n",
      "\n",
      "See the caveats in the documentation: http://pandas.pydata.org/pandas-docs/stable/user_guide/indexing.html#returning-a-view-versus-a-copy\n",
      "  \n",
      "/home/martynas/ml/.venv/lib/python3.6/site-packages/pandas/core/indexing.py:494: SettingWithCopyWarning: \n",
      "A value is trying to be set on a copy of a slice from a DataFrame.\n",
      "Try using .loc[row_indexer,col_indexer] = value instead\n",
      "\n",
      "See the caveats in the documentation: http://pandas.pydata.org/pandas-docs/stable/user_guide/indexing.html#returning-a-view-versus-a-copy\n",
      "  self.obj[item] = s\n"
     ]
    }
   ],
   "source": [
    "feature_train_df2[feature_cols] = feature_scaler.transform(\n",
    "    feature_train_df2[feature_cols]\n",
    ")\n",
    "feature_val_df2[feature_cols] = feature_scaler.transform(feature_val_df2[feature_cols])"
   ]
  },
  {
   "cell_type": "code",
   "execution_count": 109,
   "metadata": {},
   "outputs": [
    {
     "name": "stderr",
     "output_type": "stream",
     "text": [
      "/home/martynas/ml/.venv/lib/python3.6/site-packages/ipykernel_launcher.py:2: SettingWithCopyWarning: \n",
      "A value is trying to be set on a copy of a slice from a DataFrame.\n",
      "Try using .loc[row_indexer,col_indexer] = value instead\n",
      "\n",
      "See the caveats in the documentation: http://pandas.pydata.org/pandas-docs/stable/user_guide/indexing.html#returning-a-view-versus-a-copy\n",
      "  \n"
     ]
    }
   ],
   "source": [
    "feature_train_df2[target_col] = feature_label_scaler.transform(\n",
    "    feature_train_df2[[target_col]]\n",
    ")\n",
    "feature_val_df2[target_col] = feature_label_scaler.transform(\n",
    "    feature_val_df2[[target_col]]\n",
    ")"
   ]
  },
  {
   "cell_type": "code",
   "execution_count": 110,
   "metadata": {},
   "outputs": [
    {
     "data": {
      "text/html": [
       "<div>\n",
       "<style scoped>\n",
       "    .dataframe tbody tr th:only-of-type {\n",
       "        vertical-align: middle;\n",
       "    }\n",
       "\n",
       "    .dataframe tbody tr th {\n",
       "        vertical-align: top;\n",
       "    }\n",
       "\n",
       "    .dataframe thead th {\n",
       "        text-align: right;\n",
       "    }\n",
       "</style>\n",
       "<table border=\"1\" class=\"dataframe\">\n",
       "  <thead>\n",
       "    <tr style=\"text-align: right;\">\n",
       "      <th></th>\n",
       "      <th>Userscore</th>\n",
       "      <th>GameID</th>\n",
       "      <th>UserID</th>\n",
       "      <th>Title</th>\n",
       "      <th>Year</th>\n",
       "      <th>Publisher</th>\n",
       "      <th>Genre</th>\n",
       "      <th>Platform</th>\n",
       "      <th>Metascore</th>\n",
       "      <th>Avg_Userscore</th>\n",
       "      <th>No_Players</th>\n",
       "      <th>PlatfromID</th>\n",
       "    </tr>\n",
       "  </thead>\n",
       "  <tbody>\n",
       "    <tr>\n",
       "      <td>0</td>\n",
       "      <td>1.0</td>\n",
       "      <td>1969</td>\n",
       "      <td>7571</td>\n",
       "      <td>Kingdoms of Amalur: Reckoning</td>\n",
       "      <td>2012</td>\n",
       "      <td>BigHugeGames</td>\n",
       "      <td>Role-Playing;PC-style RPG;Action RPG</td>\n",
       "      <td>PlayStation3</td>\n",
       "      <td>0.052632</td>\n",
       "      <td>0.792208</td>\n",
       "      <td>No Online Multiplayer</td>\n",
       "      <td>10</td>\n",
       "    </tr>\n",
       "    <tr>\n",
       "      <td>1</td>\n",
       "      <td>0.8</td>\n",
       "      <td>2437</td>\n",
       "      <td>6679</td>\n",
       "      <td>Metroid: Samus Returns</td>\n",
       "      <td>2017</td>\n",
       "      <td>MercurySteam</td>\n",
       "      <td>Action Adventure;Open-World</td>\n",
       "      <td>3DS</td>\n",
       "      <td>0.263158</td>\n",
       "      <td>0.948052</td>\n",
       "      <td>No Online Multiplayer</td>\n",
       "      <td>0</td>\n",
       "    </tr>\n",
       "    <tr>\n",
       "      <td>2</td>\n",
       "      <td>0.8</td>\n",
       "      <td>718</td>\n",
       "      <td>4650</td>\n",
       "      <td>DOOM</td>\n",
       "      <td>2016</td>\n",
       "      <td>idSoftware</td>\n",
       "      <td>Sci-Fi;Action;Shooter;First-Person;Third-Perso...</td>\n",
       "      <td>XboxOne</td>\n",
       "      <td>0.368421</td>\n",
       "      <td>0.883117</td>\n",
       "      <td>Up to 12</td>\n",
       "      <td>18</td>\n",
       "    </tr>\n",
       "    <tr>\n",
       "      <td>3</td>\n",
       "      <td>1.0</td>\n",
       "      <td>1714</td>\n",
       "      <td>2123</td>\n",
       "      <td>Halo 4</td>\n",
       "      <td>2012</td>\n",
       "      <td>343Industries</td>\n",
       "      <td>Shooter;Sci-Fi;Sci-Fi;Action;Shooter;First-Per...</td>\n",
       "      <td>Xbox360</td>\n",
       "      <td>0.368421</td>\n",
       "      <td>0.701299</td>\n",
       "      <td>Up to 16</td>\n",
       "      <td>17</td>\n",
       "    </tr>\n",
       "    <tr>\n",
       "      <td>4</td>\n",
       "      <td>1.0</td>\n",
       "      <td>1379</td>\n",
       "      <td>9287</td>\n",
       "      <td>Final Fantasy VII</td>\n",
       "      <td>1997</td>\n",
       "      <td>SquareSoft</td>\n",
       "      <td>Role-Playing;Console-style RPG</td>\n",
       "      <td>PlayStation</td>\n",
       "      <td>0.631579</td>\n",
       "      <td>0.987013</td>\n",
       "      <td>1 Player</td>\n",
       "      <td>8</td>\n",
       "    </tr>\n",
       "  </tbody>\n",
       "</table>\n",
       "</div>"
      ],
      "text/plain": [
       "   Userscore  GameID  UserID                          Title  Year  \\\n",
       "0        1.0    1969    7571  Kingdoms of Amalur: Reckoning  2012   \n",
       "1        0.8    2437    6679         Metroid: Samus Returns  2017   \n",
       "2        0.8     718    4650                           DOOM  2016   \n",
       "3        1.0    1714    2123                         Halo 4  2012   \n",
       "4        1.0    1379    9287              Final Fantasy VII  1997   \n",
       "\n",
       "       Publisher                                              Genre  \\\n",
       "0   BigHugeGames               Role-Playing;PC-style RPG;Action RPG   \n",
       "1   MercurySteam                        Action Adventure;Open-World   \n",
       "2     idSoftware  Sci-Fi;Action;Shooter;First-Person;Third-Perso...   \n",
       "3  343Industries  Shooter;Sci-Fi;Sci-Fi;Action;Shooter;First-Per...   \n",
       "4     SquareSoft                     Role-Playing;Console-style RPG   \n",
       "\n",
       "       Platform  Metascore  Avg_Userscore             No_Players  PlatfromID  \n",
       "0  PlayStation3   0.052632       0.792208  No Online Multiplayer          10  \n",
       "1           3DS   0.263158       0.948052  No Online Multiplayer           0  \n",
       "2       XboxOne   0.368421       0.883117              Up to 12           18  \n",
       "3       Xbox360   0.368421       0.701299              Up to 16           17  \n",
       "4   PlayStation   0.631579       0.987013               1 Player           8  "
      ]
     },
     "execution_count": 110,
     "metadata": {},
     "output_type": "execute_result"
    }
   ],
   "source": [
    "feature_train_df2.head()"
   ]
  },
  {
   "cell_type": "code",
   "execution_count": 111,
   "metadata": {},
   "outputs": [],
   "source": [
    "train_feature_dataset = (\n",
    "    tf.data.Dataset.zip(\n",
    "        (\n",
    "            tf.data.Dataset.from_tensor_slices(\n",
    "                tuple(\n",
    "                    [\n",
    "                        feature_train_df2[\"UserID\"].values,\n",
    "                        feature_train_df2[\"GameID\"].values,\n",
    "                    ]\n",
    "                    + [feature_train_df2[feature_cols].values]\n",
    "                    + [feature_train_df2[\"PlatfromID\"].values]\n",
    "                )\n",
    "            ),\n",
    "            tf.data.Dataset.from_tensor_slices(feature_train_df2[target_col].values),\n",
    "        )\n",
    "    )\n",
    "    .cache()\n",
    "    .repeat()\n",
    "    .shuffle(len(feature_train_df2))\n",
    "    .batch(BATCH_SIZE)\n",
    "    .prefetch(AUTOTUNE)\n",
    ")"
   ]
  },
  {
   "cell_type": "code",
   "execution_count": 113,
   "metadata": {},
   "outputs": [],
   "source": [
    "val_feature_dataset = (\n",
    "    tf.data.Dataset.zip(\n",
    "        (\n",
    "            tf.data.Dataset.from_tensor_slices(\n",
    "                tuple(\n",
    "                    [feature_val_df2[\"UserID\"].values, feature_val_df2[\"GameID\"].values]\n",
    "                    + [feature_val_df2[feature_cols].values]\n",
    "                    + [feature_val_df2[\"PlatfromID\"].values]\n",
    "                )\n",
    "            ),\n",
    "            tf.data.Dataset.from_tensor_slices(feature_val_df2[target_col].values),\n",
    "        )\n",
    "    )\n",
    "    .batch(BATCH_SIZE)\n",
    "    .prefetch(AUTOTUNE)\n",
    ")"
   ]
  },
  {
   "cell_type": "code",
   "execution_count": 114,
   "metadata": {},
   "outputs": [],
   "source": [
    "def make_feature_concat_model(\n",
    "    user_dim,\n",
    "    item_dim,\n",
    "    platform_dim,\n",
    "    embedding_dim,\n",
    "    layer_size=256,\n",
    "    dropout_rate=0.0,\n",
    "    regularization=None,\n",
    "):\n",
    "    user_input = keras.layers.Input(shape=(1,))\n",
    "    user_embedding = EmbeddingLayer(user_dim, embedding_dim)(user_input)\n",
    "    user_bias = EmbeddingLayer(user_dim, 1)(user_input)\n",
    "\n",
    "    item_input = keras.layers.Input(shape=(1,))\n",
    "    item_embedding = EmbeddingLayer(item_dim, embedding_dim)(item_input)\n",
    "    item_bias = EmbeddingLayer(item_dim, 1)(item_input)\n",
    "\n",
    "    feature_input = keras.layers.Input(shape=(2,))\n",
    "    features = keras.backend.sum(feature_input, axis=1, keepdims=True)\n",
    "\n",
    "    platform_input = keras.layers.Input(shape=(1,))\n",
    "    platform_embedding = EmbeddingLayer(platform_dim, embedding_dim)(platform_input)\n",
    "    platform_bias = EmbeddingLayer(platform_dim, 1)(platform_input)\n",
    "\n",
    "    x = keras.layers.Concatenate()(\n",
    "        [\n",
    "            user_embedding,\n",
    "            user_bias,\n",
    "            item_embedding,\n",
    "            item_bias,\n",
    "            features,\n",
    "            platform_embedding,\n",
    "            platform_bias,\n",
    "        ]\n",
    "    )\n",
    "    x = keras.layers.BatchNormalization()(x)\n",
    "    x = keras.layers.Dropout(dropout_rate)(x)\n",
    "    x = keras.layers.Dense(\n",
    "        layer_size,\n",
    "        kernel_initializer=keras.initializers.he_uniform(),\n",
    "        kernel_regularizer=regularization and keras.regularizers.l1_l2(*regularization),\n",
    "    )(x)\n",
    "    x = keras.layers.LeakyReLU()(x)\n",
    "    x = keras.layers.BatchNormalization()(x)\n",
    "    x = keras.layers.Dropout(dropout_rate)(x)\n",
    "    x = keras.layers.Dense(1)(x)\n",
    "    outputs = keras.layers.Activation(keras.activations.sigmoid)(x)\n",
    "\n",
    "    model = keras.Model(\n",
    "        inputs=[user_input, item_input, feature_input, platform_input], outputs=outputs\n",
    "    )\n",
    "    return model"
   ]
  },
  {
   "cell_type": "code",
   "execution_count": 115,
   "metadata": {},
   "outputs": [],
   "source": [
    "n_platforms = 20"
   ]
  },
  {
   "cell_type": "code",
   "execution_count": 116,
   "metadata": {},
   "outputs": [],
   "source": [
    "feature_concat_model = make_feature_concat_model(\n",
    "    n_users,\n",
    "    n_games,\n",
    "    n_platforms,\n",
    "    128,\n",
    "    layer_size=512,\n",
    "    dropout_rate=0.3,\n",
    "    regularization=(1e-8, 1e-4),\n",
    ")"
   ]
  },
  {
   "cell_type": "code",
   "execution_count": 117,
   "metadata": {},
   "outputs": [
    {
     "name": "stdout",
     "output_type": "stream",
     "text": [
      "Model: \"model_4\"\n",
      "__________________________________________________________________________________________________\n",
      "Layer (type)                    Output Shape         Param #     Connected to                     \n",
      "==================================================================================================\n",
      "input_11 (InputLayer)           [(None, 1)]          0                                            \n",
      "__________________________________________________________________________________________________\n",
      "input_12 (InputLayer)           [(None, 1)]          0                                            \n",
      "__________________________________________________________________________________________________\n",
      "input_14 (InputLayer)           [(None, 1)]          0                                            \n",
      "__________________________________________________________________________________________________\n",
      "embedding_16 (Embedding)        (None, 1, 128)       1408000     input_11[0][0]                   \n",
      "__________________________________________________________________________________________________\n",
      "embedding_17 (Embedding)        (None, 1, 1)         11000       input_11[0][0]                   \n",
      "__________________________________________________________________________________________________\n",
      "embedding_18 (Embedding)        (None, 1, 128)       640000      input_12[0][0]                   \n",
      "__________________________________________________________________________________________________\n",
      "embedding_19 (Embedding)        (None, 1, 1)         5000        input_12[0][0]                   \n",
      "__________________________________________________________________________________________________\n",
      "input_13 (InputLayer)           [(None, 2)]          0                                            \n",
      "__________________________________________________________________________________________________\n",
      "embedding_20 (Embedding)        (None, 1, 128)       2560        input_14[0][0]                   \n",
      "__________________________________________________________________________________________________\n",
      "embedding_21 (Embedding)        (None, 1, 1)         20          input_14[0][0]                   \n",
      "__________________________________________________________________________________________________\n",
      "flatten_16 (Flatten)            (None, 128)          0           embedding_16[0][0]               \n",
      "__________________________________________________________________________________________________\n",
      "flatten_17 (Flatten)            (None, 1)            0           embedding_17[0][0]               \n",
      "__________________________________________________________________________________________________\n",
      "flatten_18 (Flatten)            (None, 128)          0           embedding_18[0][0]               \n",
      "__________________________________________________________________________________________________\n",
      "flatten_19 (Flatten)            (None, 1)            0           embedding_19[0][0]               \n",
      "__________________________________________________________________________________________________\n",
      "tf_op_layer_Sum_2 (TensorFlowOp [(None, 1)]          0           input_13[0][0]                   \n",
      "__________________________________________________________________________________________________\n",
      "flatten_20 (Flatten)            (None, 128)          0           embedding_20[0][0]               \n",
      "__________________________________________________________________________________________________\n",
      "flatten_21 (Flatten)            (None, 1)            0           embedding_21[0][0]               \n",
      "__________________________________________________________________________________________________\n",
      "concatenate_2 (Concatenate)     (None, 388)          0           flatten_16[0][0]                 \n",
      "                                                                 flatten_17[0][0]                 \n",
      "                                                                 flatten_18[0][0]                 \n",
      "                                                                 flatten_19[0][0]                 \n",
      "                                                                 tf_op_layer_Sum_2[0][0]          \n",
      "                                                                 flatten_20[0][0]                 \n",
      "                                                                 flatten_21[0][0]                 \n",
      "__________________________________________________________________________________________________\n",
      "batch_normalization_4 (BatchNor (None, 388)          1552        concatenate_2[0][0]              \n",
      "__________________________________________________________________________________________________\n",
      "dropout_4 (Dropout)             (None, 388)          0           batch_normalization_4[0][0]      \n",
      "__________________________________________________________________________________________________\n",
      "dense_4 (Dense)                 (None, 512)          199168      dropout_4[0][0]                  \n",
      "__________________________________________________________________________________________________\n",
      "leaky_re_lu_2 (LeakyReLU)       (None, 512)          0           dense_4[0][0]                    \n",
      "__________________________________________________________________________________________________\n",
      "batch_normalization_5 (BatchNor (None, 512)          2048        leaky_re_lu_2[0][0]              \n",
      "__________________________________________________________________________________________________\n",
      "dropout_5 (Dropout)             (None, 512)          0           batch_normalization_5[0][0]      \n",
      "__________________________________________________________________________________________________\n",
      "dense_5 (Dense)                 (None, 1)            513         dropout_5[0][0]                  \n",
      "__________________________________________________________________________________________________\n",
      "activation_4 (Activation)       (None, 1)            0           dense_5[0][0]                    \n",
      "==================================================================================================\n",
      "Total params: 2,269,861\n",
      "Trainable params: 2,268,061\n",
      "Non-trainable params: 1,800\n",
      "__________________________________________________________________________________________________\n"
     ]
    }
   ],
   "source": [
    "feature_concat_model.summary()"
   ]
  },
  {
   "cell_type": "code",
   "execution_count": 118,
   "metadata": {},
   "outputs": [],
   "source": [
    "feature_concat_model.compile(\n",
    "    optimizer=keras.optimizers.Adam(3e-5),\n",
    "    loss=keras.losses.mse,\n",
    "    metrics=[keras.metrics.mae],\n",
    ")"
   ]
  },
  {
   "cell_type": "code",
   "execution_count": 119,
   "metadata": {},
   "outputs": [],
   "source": [
    "PATIENCE = 5\n",
    "\n",
    "train_data_steps = len(feature_train_df) // BATCH_SIZE\n",
    "concat_feature_model_history2 = feature_concat_model.fit(\n",
    "    train_feature_dataset,\n",
    "    steps_per_epoch=train_data_steps,\n",
    "    validation_data=val_feature_dataset,\n",
    "    epochs=100,\n",
    "    callbacks=[\n",
    "        tf.keras.callbacks.ReduceLROnPlateau(factor=0.3, patience=PATIENCE),\n",
    "        tf.keras.callbacks.EarlyStopping(\n",
    "            patience=PATIENCE * 2, restore_best_weights=True\n",
    "        ),\n",
    "    ],\n",
    "    verbose=0,\n",
    ")"
   ]
  },
  {
   "cell_type": "code",
   "execution_count": 136,
   "metadata": {},
   "outputs": [
    {
     "data": {
      "text/plain": [
       "(None, None)"
      ]
     },
     "execution_count": 136,
     "metadata": {},
     "output_type": "execute_result"
    },
    {
     "data": {
      "image/png": "[encoded data removed]",
      "text/plain": [
       "<Figure size 432x288 with 1 Axes>"
      ]
     },
     "metadata": {
      "needs_background": "light"
     },
     "output_type": "display_data"
    },
    {
     "data": {
      "image/png": "[encoded data removed]",
      "text/plain": [
       "<Figure size 432x288 with 1 Axes>"
      ]
     },
     "metadata": {
      "needs_background": "light"
     },
     "output_type": "display_data"
    }
   ],
   "source": [
    "show_history(concat_feature_model_history2, \"loss\"), show_history(\n",
    "    concat_feature_model_history2, \"err\"\n",
    ")"
   ]
  },
  {
   "cell_type": "code",
   "execution_count": 137,
   "metadata": {},
   "outputs": [
    {
     "data": {
      "text/html": [
       "<div>\n",
       "<style scoped>\n",
       "    .dataframe tbody tr th:only-of-type {\n",
       "        vertical-align: middle;\n",
       "    }\n",
       "\n",
       "    .dataframe tbody tr th {\n",
       "        vertical-align: top;\n",
       "    }\n",
       "\n",
       "    .dataframe thead th {\n",
       "        text-align: right;\n",
       "    }\n",
       "</style>\n",
       "<table border=\"1\" class=\"dataframe\">\n",
       "  <thead>\n",
       "    <tr style=\"text-align: right;\">\n",
       "      <th></th>\n",
       "      <th>loss</th>\n",
       "      <th>mean_absolute_error</th>\n",
       "      <th>val_loss</th>\n",
       "      <th>val_mean_absolute_error</th>\n",
       "      <th>lr</th>\n",
       "    </tr>\n",
       "  </thead>\n",
       "  <tbody>\n",
       "    <tr>\n",
       "      <td>95</td>\n",
       "      <td>0.058806</td>\n",
       "      <td>0.129548</td>\n",
       "      <td>0.075670</td>\n",
       "      <td>0.154683</td>\n",
       "      <td>0.00003</td>\n",
       "    </tr>\n",
       "    <tr>\n",
       "      <td>96</td>\n",
       "      <td>0.058502</td>\n",
       "      <td>0.129294</td>\n",
       "      <td>0.075229</td>\n",
       "      <td>0.154751</td>\n",
       "      <td>0.00003</td>\n",
       "    </tr>\n",
       "    <tr>\n",
       "      <td>97</td>\n",
       "      <td>0.057512</td>\n",
       "      <td>0.128485</td>\n",
       "      <td>0.074675</td>\n",
       "      <td>0.154525</td>\n",
       "      <td>0.00003</td>\n",
       "    </tr>\n",
       "    <tr>\n",
       "      <td>98</td>\n",
       "      <td>0.057066</td>\n",
       "      <td>0.128403</td>\n",
       "      <td>0.074367</td>\n",
       "      <td>0.154701</td>\n",
       "      <td>0.00003</td>\n",
       "    </tr>\n",
       "    <tr>\n",
       "      <td>99</td>\n",
       "      <td>0.056785</td>\n",
       "      <td>0.128557</td>\n",
       "      <td>0.073981</td>\n",
       "      <td>0.154477</td>\n",
       "      <td>0.00003</td>\n",
       "    </tr>\n",
       "  </tbody>\n",
       "</table>\n",
       "</div>"
      ],
      "text/plain": [
       "        loss  mean_absolute_error  val_loss  val_mean_absolute_error       lr\n",
       "95  0.058806             0.129548  0.075670                 0.154683  0.00003\n",
       "96  0.058502             0.129294  0.075229                 0.154751  0.00003\n",
       "97  0.057512             0.128485  0.074675                 0.154525  0.00003\n",
       "98  0.057066             0.128403  0.074367                 0.154701  0.00003\n",
       "99  0.056785             0.128557  0.073981                 0.154477  0.00003"
      ]
     },
     "execution_count": 137,
     "metadata": {},
     "output_type": "execute_result"
    }
   ],
   "source": [
    "pd.DataFrame(concat_feature_model_history2.history).tail()"
   ]
  },
  {
   "cell_type": "code",
   "execution_count": 129,
   "metadata": {},
   "outputs": [],
   "source": [
    "def make_feature_dot_model(user_dim, item_dim, platform_dim, embedding_dim):\n",
    "    user_input = keras.layers.Input(shape=(1,))\n",
    "    user_embedding = EmbeddingLayer(user_dim, embedding_dim)(user_input)\n",
    "    user_bias = EmbeddingLayer(user_dim, 1)(user_input)\n",
    "\n",
    "    item_input = keras.layers.Input(shape=(1,))\n",
    "    item_embedding = EmbeddingLayer(item_dim, embedding_dim)(item_input)\n",
    "    item_bias = EmbeddingLayer(item_dim, 1)(item_input)\n",
    "\n",
    "    feature_input = keras.layers.Input(shape=(2,))\n",
    "    features = keras.backend.sum(feature_input, axis=1, keepdims=True)\n",
    "\n",
    "    platform_input = keras.layers.Input(shape=(1,))\n",
    "    platform_embedding = EmbeddingLayer(platform_dim, embedding_dim)(platform_input)\n",
    "    platform_bias = EmbeddingLayer(platform_dim, 1)(platform_input)\n",
    "\n",
    "    p = keras.layers.Add()([item_embedding, platform_embedding])\n",
    "\n",
    "    dot_product = keras.layers.Dot(axes=1)([user_embedding, p])\n",
    "    logits = keras.layers.Add()(\n",
    "        [dot_product, user_bias, item_bias, features, platform_bias]\n",
    "    )\n",
    "    outputs = keras.layers.Activation(keras.activations.sigmoid)(logits)\n",
    "\n",
    "    model = keras.Model(\n",
    "        inputs=[user_input, item_input, feature_input, platform_input], outputs=outputs\n",
    "    )\n",
    "    return model"
   ]
  },
  {
   "cell_type": "code",
   "execution_count": 130,
   "metadata": {},
   "outputs": [],
   "source": [
    "feature_dot_model = make_feature_dot_model(n_users, n_games, n_platforms, 128)"
   ]
  },
  {
   "cell_type": "code",
   "execution_count": 131,
   "metadata": {},
   "outputs": [
    {
     "name": "stdout",
     "output_type": "stream",
     "text": [
      "Model: \"model_7\"\n",
      "__________________________________________________________________________________________________\n",
      "Layer (type)                    Output Shape         Param #     Connected to                     \n",
      "==================================================================================================\n",
      "input_24 (InputLayer)           [(None, 1)]          0                                            \n",
      "__________________________________________________________________________________________________\n",
      "input_26 (InputLayer)           [(None, 1)]          0                                            \n",
      "__________________________________________________________________________________________________\n",
      "input_23 (InputLayer)           [(None, 1)]          0                                            \n",
      "__________________________________________________________________________________________________\n",
      "embedding_36 (Embedding)        (None, 1, 128)       640000      input_24[0][0]                   \n",
      "__________________________________________________________________________________________________\n",
      "embedding_38 (Embedding)        (None, 1, 128)       2560        input_26[0][0]                   \n",
      "__________________________________________________________________________________________________\n",
      "embedding_34 (Embedding)        (None, 1, 128)       1408000     input_23[0][0]                   \n",
      "__________________________________________________________________________________________________\n",
      "flatten_36 (Flatten)            (None, 128)          0           embedding_36[0][0]               \n",
      "__________________________________________________________________________________________________\n",
      "flatten_38 (Flatten)            (None, 128)          0           embedding_38[0][0]               \n",
      "__________________________________________________________________________________________________\n",
      "flatten_34 (Flatten)            (None, 128)          0           embedding_34[0][0]               \n",
      "__________________________________________________________________________________________________\n",
      "add_5 (Add)                     (None, 128)          0           flatten_36[0][0]                 \n",
      "                                                                 flatten_38[0][0]                 \n",
      "__________________________________________________________________________________________________\n",
      "embedding_35 (Embedding)        (None, 1, 1)         11000       input_23[0][0]                   \n",
      "__________________________________________________________________________________________________\n",
      "embedding_37 (Embedding)        (None, 1, 1)         5000        input_24[0][0]                   \n",
      "__________________________________________________________________________________________________\n",
      "input_25 (InputLayer)           [(None, 2)]          0                                            \n",
      "__________________________________________________________________________________________________\n",
      "embedding_39 (Embedding)        (None, 1, 1)         20          input_26[0][0]                   \n",
      "__________________________________________________________________________________________________\n",
      "dot_4 (Dot)                     (None, 1)            0           flatten_34[0][0]                 \n",
      "                                                                 add_5[0][0]                      \n",
      "__________________________________________________________________________________________________\n",
      "flatten_35 (Flatten)            (None, 1)            0           embedding_35[0][0]               \n",
      "__________________________________________________________________________________________________\n",
      "flatten_37 (Flatten)            (None, 1)            0           embedding_37[0][0]               \n",
      "__________________________________________________________________________________________________\n",
      "tf_op_layer_Sum_5 (TensorFlowOp [(None, 1)]          0           input_25[0][0]                   \n",
      "__________________________________________________________________________________________________\n",
      "flatten_39 (Flatten)            (None, 1)            0           embedding_39[0][0]               \n",
      "__________________________________________________________________________________________________\n",
      "add_6 (Add)                     (None, 1)            0           dot_4[0][0]                      \n",
      "                                                                 flatten_35[0][0]                 \n",
      "                                                                 flatten_37[0][0]                 \n",
      "                                                                 tf_op_layer_Sum_5[0][0]          \n",
      "                                                                 flatten_39[0][0]                 \n",
      "__________________________________________________________________________________________________\n",
      "activation_7 (Activation)       (None, 1)            0           add_6[0][0]                      \n",
      "==================================================================================================\n",
      "Total params: 2,066,580\n",
      "Trainable params: 2,066,580\n",
      "Non-trainable params: 0\n",
      "__________________________________________________________________________________________________\n"
     ]
    }
   ],
   "source": [
    "feature_dot_model.summary()"
   ]
  },
  {
   "cell_type": "code",
   "execution_count": 132,
   "metadata": {},
   "outputs": [],
   "source": [
    "feature_dot_model.compile(\n",
    "    optimizer=keras.optimizers.Adam(3e-5),\n",
    "    loss=keras.losses.mse,\n",
    "    metrics=[keras.metrics.mae],\n",
    ")"
   ]
  },
  {
   "cell_type": "code",
   "execution_count": 134,
   "metadata": {},
   "outputs": [],
   "source": [
    "PATIENCE = 5\n",
    "\n",
    "train_data_steps = len(feature_train_df) // BATCH_SIZE\n",
    "feature_dot_model_history = feature_dot_model.fit(\n",
    "    train_feature_dataset,\n",
    "    steps_per_epoch=train_data_steps,\n",
    "    validation_data=val_feature_dataset,\n",
    "    epochs=100,\n",
    "    callbacks=[\n",
    "        tf.keras.callbacks.ReduceLROnPlateau(factor=0.3, patience=PATIENCE),\n",
    "        tf.keras.callbacks.EarlyStopping(\n",
    "            patience=PATIENCE * 2, restore_best_weights=True\n",
    "        ),\n",
    "    ],\n",
    "    verbose=0,\n",
    ")"
   ]
  },
  {
   "cell_type": "code",
   "execution_count": 135,
   "metadata": {},
   "outputs": [
    {
     "data": {
      "text/plain": [
       "(None, None)"
      ]
     },
     "execution_count": 135,
     "metadata": {},
     "output_type": "execute_result"
    },
    {
     "data": {
      "image/png": "[encoded data removed]",
      "text/plain": [
       "<Figure size 432x288 with 1 Axes>"
      ]
     },
     "metadata": {
      "needs_background": "light"
     },
     "output_type": "display_data"
    },
    {
     "data": {
      "image/png": "[encoded data removed]",
      "text/plain": [
       "<Figure size 432x288 with 1 Axes>"
      ]
     },
     "metadata": {
      "needs_background": "light"
     },
     "output_type": "display_data"
    }
   ],
   "source": [
    "show_history(feature_dot_model_history, \"loss\"), show_history(\n",
    "    feature_dot_model_history, \"err\"\n",
    ")"
   ]
  },
  {
   "cell_type": "code",
   "execution_count": 138,
   "metadata": {},
   "outputs": [
    {
     "name": "stdout",
     "output_type": "stream",
     "text": [
      "2.250295864127757\n",
      "2.2888768944494116\n"
     ]
    }
   ],
   "source": [
    "for model in [feature_concat_model, feature_dot_model]:\n",
    "    print(\n",
    "        evaluate_feature_predictions(\n",
    "            model, val_feature_dataset, feature_label_scaler, rmse\n",
    "        )\n",
    "    )"
   ]
  },
  {
   "cell_type": "markdown",
   "metadata": {},
   "source": [
    "## Evaluate with test dataset"
   ]
  },
  {
   "cell_type": "code",
   "execution_count": 139,
   "metadata": {},
   "outputs": [],
   "source": [
    "feature_test_df2[target_col] = feature_label_scaler.transform(\n",
    "    feature_test_df2[[target_col]]\n",
    ")\n",
    "feature_test_df2[feature_cols] = feature_scaler.transform(\n",
    "    feature_test_df2[feature_cols]\n",
    ")"
   ]
  },
  {
   "cell_type": "code",
   "execution_count": 140,
   "metadata": {},
   "outputs": [],
   "source": [
    "test_feature_dataset = (\n",
    "    tf.data.Dataset.zip(\n",
    "        (\n",
    "            tf.data.Dataset.from_tensor_slices(\n",
    "                tuple(\n",
    "                    [\n",
    "                        feature_test_df2[\"UserID\"].values,\n",
    "                        feature_test_df2[\"GameID\"].values,\n",
    "                    ]\n",
    "                    + [feature_test_df2[feature_cols].values]\n",
    "                    + [feature_test_df2[\"PlatfromID\"].values]\n",
    "                )\n",
    "            ),\n",
    "            tf.data.Dataset.from_tensor_slices(feature_test_df2[target_col].values),\n",
    "        )\n",
    "    )\n",
    "    .batch(BATCH_SIZE)\n",
    "    .prefetch(AUTOTUNE)\n",
    ")"
   ]
  },
  {
   "cell_type": "code",
   "execution_count": 141,
   "metadata": {},
   "outputs": [
    {
     "name": "stdout",
     "output_type": "stream",
     "text": [
      "2.266921892819914\n",
      "2.296786786102784\n"
     ]
    }
   ],
   "source": [
    "for model in [feature_concat_model, feature_dot_model]:\n",
    "    print(\n",
    "        evaluate_feature_predictions(\n",
    "            model, test_feature_dataset, feature_label_scaler, rmse\n",
    "        )\n",
    "    )"
   ]
  },
  {
   "cell_type": "markdown",
   "metadata": {},
   "source": [
    "## Summary"
   ]
  },
  {
   "cell_type": "markdown",
   "metadata": {},
   "source": [
    "Results from evaluation on test dataset"
   ]
  },
  {
   "cell_type": "markdown",
   "metadata": {},
   "source": [
    "| Model  | Stage I | Stage II | Stage III |\n",
    "|--------|---------|----------|-----------|\n",
    "| Concat | 2.271   | 2.274    | 2.267     |\n",
    "| Dot    | 3.024   | 2.381    | 2.297     |"
   ]
  }
 ],
 "metadata": {
  "kernelspec": {
   "display_name": ".venv",
   "language": "python",
   "name": ".venv"
  },
  "language_info": {
   "codemirror_mode": {
    "name": "ipython",
    "version": 3
   },
   "file_extension": ".py",
   "mimetype": "text/x-python",
   "name": "python",
   "nbconvert_exporter": "python",
   "pygments_lexer": "ipython3",
   "version": "3.6.8"
  }
 },
 "nbformat": 4,
 "nbformat_minor": 4
}
